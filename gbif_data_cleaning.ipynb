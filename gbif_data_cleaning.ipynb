{
 "cells": [
  {
   "cell_type": "markdown",
   "metadata": {},
   "source": [
    "# GBIF Data Cleaning"
   ]
  },
  {
   "cell_type": "markdown",
   "metadata": {},
   "source": [
    "##  import libraries "
   ]
  },
  {
   "cell_type": "code",
   "execution_count": 1,
   "metadata": {},
   "outputs": [],
   "source": [
    "import pandas as pd\n",
    "import geopandas as gpd\n",
    "from keplergl import KeplerGl"
   ]
  },
  {
   "cell_type": "markdown",
   "metadata": {},
   "source": [
    "# load city boundary"
   ]
  },
  {
   "cell_type": "code",
   "execution_count": 2,
   "metadata": {},
   "outputs": [],
   "source": [
    "url = 'https://opendata.vancouver.ca/explore/dataset/facet-grid-boundaries/download/?format=shp&timezone=America/Los_Angeles&lang=en'\n",
    "city_boundary = gpd.read_file(url)"
   ]
  },
  {
   "cell_type": "markdown",
   "metadata": {},
   "source": [
    "# load gbif"
   ]
  },
  {
   "cell_type": "code",
   "execution_count": 3,
   "metadata": {},
   "outputs": [],
   "source": [
    "gbif = pd.read_csv('data/misc/gbif.csv', sep='\\t', low_memory=False)"
   ]
  },
  {
   "cell_type": "code",
   "execution_count": 4,
   "metadata": {},
   "outputs": [
    {
     "data": {
      "text/html": [
       "<div>\n",
       "<style scoped>\n",
       "    .dataframe tbody tr th:only-of-type {\n",
       "        vertical-align: middle;\n",
       "    }\n",
       "\n",
       "    .dataframe tbody tr th {\n",
       "        vertical-align: top;\n",
       "    }\n",
       "\n",
       "    .dataframe thead th {\n",
       "        text-align: right;\n",
       "    }\n",
       "</style>\n",
       "<table border=\"1\" class=\"dataframe\">\n",
       "  <thead>\n",
       "    <tr style=\"text-align: right;\">\n",
       "      <th></th>\n",
       "      <th>gbifID</th>\n",
       "      <th>datasetKey</th>\n",
       "      <th>occurrenceID</th>\n",
       "      <th>kingdom</th>\n",
       "      <th>phylum</th>\n",
       "      <th>class</th>\n",
       "      <th>order</th>\n",
       "      <th>family</th>\n",
       "      <th>genus</th>\n",
       "      <th>species</th>\n",
       "      <th>...</th>\n",
       "      <th>identifiedBy</th>\n",
       "      <th>dateIdentified</th>\n",
       "      <th>license</th>\n",
       "      <th>rightsHolder</th>\n",
       "      <th>recordedBy</th>\n",
       "      <th>typeStatus</th>\n",
       "      <th>establishmentMeans</th>\n",
       "      <th>lastInterpreted</th>\n",
       "      <th>mediaType</th>\n",
       "      <th>issue</th>\n",
       "    </tr>\n",
       "  </thead>\n",
       "  <tbody>\n",
       "    <tr>\n",
       "      <th>0</th>\n",
       "      <td>1065573484</td>\n",
       "      <td>50c9509d-22c7-4a22-a47d-8c48425ef4a7</td>\n",
       "      <td>http://www.inaturalist.org/observations/264412</td>\n",
       "      <td>Plantae</td>\n",
       "      <td>Tracheophyta</td>\n",
       "      <td>Polypodiopsida</td>\n",
       "      <td>Polypodiales</td>\n",
       "      <td>Dryopteridaceae</td>\n",
       "      <td>Polystichum</td>\n",
       "      <td>Polystichum munitum</td>\n",
       "      <td>...</td>\n",
       "      <td>NaN</td>\n",
       "      <td>2013-05-12T03:23:20Z</td>\n",
       "      <td>CC_BY_NC_4_0</td>\n",
       "      <td>vjh</td>\n",
       "      <td>vjh</td>\n",
       "      <td>NaN</td>\n",
       "      <td>NaN</td>\n",
       "      <td>2019-03-19T21:43:51.212Z</td>\n",
       "      <td>NaN</td>\n",
       "      <td>GEODETIC_DATUM_ASSUMED_WGS84</td>\n",
       "    </tr>\n",
       "    <tr>\n",
       "      <th>1</th>\n",
       "      <td>1065573958</td>\n",
       "      <td>50c9509d-22c7-4a22-a47d-8c48425ef4a7</td>\n",
       "      <td>http://www.inaturalist.org/observations/366049</td>\n",
       "      <td>Animalia</td>\n",
       "      <td>Chordata</td>\n",
       "      <td>Amphibia</td>\n",
       "      <td>Anura</td>\n",
       "      <td>Bufonidae</td>\n",
       "      <td>Anaxyrus</td>\n",
       "      <td>Anaxyrus boreas</td>\n",
       "      <td>...</td>\n",
       "      <td>NaN</td>\n",
       "      <td>2013-08-15T12:38:58Z</td>\n",
       "      <td>CC_BY_NC_4_0</td>\n",
       "      <td>James Maughn</td>\n",
       "      <td>James Maughn</td>\n",
       "      <td>NaN</td>\n",
       "      <td>NaN</td>\n",
       "      <td>2019-03-19T22:01:25.296Z</td>\n",
       "      <td>STILLIMAGE</td>\n",
       "      <td>COORDINATE_ROUNDED;GEODETIC_DATUM_ASSUMED_WGS84</td>\n",
       "    </tr>\n",
       "    <tr>\n",
       "      <th>2</th>\n",
       "      <td>1065578258</td>\n",
       "      <td>50c9509d-22c7-4a22-a47d-8c48425ef4a7</td>\n",
       "      <td>http://www.inaturalist.org/observations/710315</td>\n",
       "      <td>Plantae</td>\n",
       "      <td>Tracheophyta</td>\n",
       "      <td>Polypodiopsida</td>\n",
       "      <td>Polypodiales</td>\n",
       "      <td>Onocleaceae</td>\n",
       "      <td>Onoclea</td>\n",
       "      <td>Onoclea sensibilis</td>\n",
       "      <td>...</td>\n",
       "      <td>NaN</td>\n",
       "      <td>2014-06-01T18:10:11Z</td>\n",
       "      <td>CC_BY_NC_4_0</td>\n",
       "      <td>Killarney Provincial Park</td>\n",
       "      <td>Killarney Provincial Park</td>\n",
       "      <td>NaN</td>\n",
       "      <td>NaN</td>\n",
       "      <td>2019-03-19T23:02:20.517Z</td>\n",
       "      <td>STILLIMAGE</td>\n",
       "      <td>GEODETIC_DATUM_ASSUMED_WGS84</td>\n",
       "    </tr>\n",
       "    <tr>\n",
       "      <th>3</th>\n",
       "      <td>1065578318</td>\n",
       "      <td>50c9509d-22c7-4a22-a47d-8c48425ef4a7</td>\n",
       "      <td>http://www.inaturalist.org/observations/715125</td>\n",
       "      <td>Plantae</td>\n",
       "      <td>Tracheophyta</td>\n",
       "      <td>Polypodiopsida</td>\n",
       "      <td>Osmundales</td>\n",
       "      <td>Osmundaceae</td>\n",
       "      <td>Claytosmunda</td>\n",
       "      <td>Claytosmunda claytoniana</td>\n",
       "      <td>...</td>\n",
       "      <td>NaN</td>\n",
       "      <td>2014-06-03T19:55:29Z</td>\n",
       "      <td>CC_BY_NC_4_0</td>\n",
       "      <td>Killarney Provincial Park</td>\n",
       "      <td>Killarney Provincial Park</td>\n",
       "      <td>NaN</td>\n",
       "      <td>NaN</td>\n",
       "      <td>2019-03-19T23:03:05.983Z</td>\n",
       "      <td>STILLIMAGE</td>\n",
       "      <td>GEODETIC_DATUM_ASSUMED_WGS84</td>\n",
       "    </tr>\n",
       "    <tr>\n",
       "      <th>4</th>\n",
       "      <td>1065578594</td>\n",
       "      <td>50c9509d-22c7-4a22-a47d-8c48425ef4a7</td>\n",
       "      <td>http://www.inaturalist.org/observations/735247</td>\n",
       "      <td>Plantae</td>\n",
       "      <td>Tracheophyta</td>\n",
       "      <td>Polypodiopsida</td>\n",
       "      <td>Osmundales</td>\n",
       "      <td>Osmundaceae</td>\n",
       "      <td>Osmunda</td>\n",
       "      <td>Osmunda regalis</td>\n",
       "      <td>...</td>\n",
       "      <td>NaN</td>\n",
       "      <td>2014-06-13T18:48:27Z</td>\n",
       "      <td>CC_BY_NC_4_0</td>\n",
       "      <td>Killarney Provincial Park</td>\n",
       "      <td>Killarney Provincial Park</td>\n",
       "      <td>NaN</td>\n",
       "      <td>NaN</td>\n",
       "      <td>2019-03-19T23:05:25.989Z</td>\n",
       "      <td>STILLIMAGE</td>\n",
       "      <td>GEODETIC_DATUM_ASSUMED_WGS84</td>\n",
       "    </tr>\n",
       "  </tbody>\n",
       "</table>\n",
       "<p>5 rows × 45 columns</p>\n",
       "</div>"
      ],
      "text/plain": [
       "       gbifID                            datasetKey  \\\n",
       "0  1065573484  50c9509d-22c7-4a22-a47d-8c48425ef4a7   \n",
       "1  1065573958  50c9509d-22c7-4a22-a47d-8c48425ef4a7   \n",
       "2  1065578258  50c9509d-22c7-4a22-a47d-8c48425ef4a7   \n",
       "3  1065578318  50c9509d-22c7-4a22-a47d-8c48425ef4a7   \n",
       "4  1065578594  50c9509d-22c7-4a22-a47d-8c48425ef4a7   \n",
       "\n",
       "                                     occurrenceID   kingdom        phylum  \\\n",
       "0  http://www.inaturalist.org/observations/264412   Plantae  Tracheophyta   \n",
       "1  http://www.inaturalist.org/observations/366049  Animalia      Chordata   \n",
       "2  http://www.inaturalist.org/observations/710315   Plantae  Tracheophyta   \n",
       "3  http://www.inaturalist.org/observations/715125   Plantae  Tracheophyta   \n",
       "4  http://www.inaturalist.org/observations/735247   Plantae  Tracheophyta   \n",
       "\n",
       "            class         order           family         genus  \\\n",
       "0  Polypodiopsida  Polypodiales  Dryopteridaceae   Polystichum   \n",
       "1        Amphibia         Anura        Bufonidae      Anaxyrus   \n",
       "2  Polypodiopsida  Polypodiales      Onocleaceae       Onoclea   \n",
       "3  Polypodiopsida    Osmundales      Osmundaceae  Claytosmunda   \n",
       "4  Polypodiopsida    Osmundales      Osmundaceae       Osmunda   \n",
       "\n",
       "                    species  ... identifiedBy        dateIdentified  \\\n",
       "0       Polystichum munitum  ...          NaN  2013-05-12T03:23:20Z   \n",
       "1           Anaxyrus boreas  ...          NaN  2013-08-15T12:38:58Z   \n",
       "2        Onoclea sensibilis  ...          NaN  2014-06-01T18:10:11Z   \n",
       "3  Claytosmunda claytoniana  ...          NaN  2014-06-03T19:55:29Z   \n",
       "4           Osmunda regalis  ...          NaN  2014-06-13T18:48:27Z   \n",
       "\n",
       "        license               rightsHolder                 recordedBy  \\\n",
       "0  CC_BY_NC_4_0                        vjh                        vjh   \n",
       "1  CC_BY_NC_4_0               James Maughn               James Maughn   \n",
       "2  CC_BY_NC_4_0  Killarney Provincial Park  Killarney Provincial Park   \n",
       "3  CC_BY_NC_4_0  Killarney Provincial Park  Killarney Provincial Park   \n",
       "4  CC_BY_NC_4_0  Killarney Provincial Park  Killarney Provincial Park   \n",
       "\n",
       "  typeStatus  establishmentMeans           lastInterpreted   mediaType  \\\n",
       "0        NaN                 NaN  2019-03-19T21:43:51.212Z         NaN   \n",
       "1        NaN                 NaN  2019-03-19T22:01:25.296Z  STILLIMAGE   \n",
       "2        NaN                 NaN  2019-03-19T23:02:20.517Z  STILLIMAGE   \n",
       "3        NaN                 NaN  2019-03-19T23:03:05.983Z  STILLIMAGE   \n",
       "4        NaN                 NaN  2019-03-19T23:05:25.989Z  STILLIMAGE   \n",
       "\n",
       "                                             issue  \n",
       "0                     GEODETIC_DATUM_ASSUMED_WGS84  \n",
       "1  COORDINATE_ROUNDED;GEODETIC_DATUM_ASSUMED_WGS84  \n",
       "2                     GEODETIC_DATUM_ASSUMED_WGS84  \n",
       "3                     GEODETIC_DATUM_ASSUMED_WGS84  \n",
       "4                     GEODETIC_DATUM_ASSUMED_WGS84  \n",
       "\n",
       "[5 rows x 45 columns]"
      ]
     },
     "execution_count": 4,
     "metadata": {},
     "output_type": "execute_result"
    }
   ],
   "source": [
    "gbif.head()"
   ]
  },
  {
   "cell_type": "markdown",
   "metadata": {},
   "source": [
    "### convert gbif data to geodataframe "
   ]
  },
  {
   "cell_type": "code",
   "execution_count": 5,
   "metadata": {},
   "outputs": [],
   "source": [
    "gbif_gdf = gpd.GeoDataFrame(gbif, \n",
    "                            crs='epsg:4326', \n",
    "                            geometry=gpd.points_from_xy(gbif.decimalLongitude, gbif.decimalLatitude))"
   ]
  },
  {
   "cell_type": "markdown",
   "metadata": {},
   "source": [
    "### clip gbif data "
   ]
  },
  {
   "cell_type": "code",
   "execution_count": 6,
   "metadata": {},
   "outputs": [],
   "source": [
    "vancouver_gbif = gpd.clip(gbif_gdf, mask=city_boundary)"
   ]
  },
  {
   "cell_type": "markdown",
   "metadata": {},
   "source": [
    "### save clipped species data "
   ]
  },
  {
   "cell_type": "code",
   "execution_count": 15,
   "metadata": {},
   "outputs": [],
   "source": [
    "vancouver_gbif.to_file('vancouver_gbif.shp')"
   ]
  },
  {
   "cell_type": "markdown",
   "metadata": {},
   "source": [
    "# remove unnecessary columns"
   ]
  },
  {
   "cell_type": "code",
   "execution_count": 16,
   "metadata": {},
   "outputs": [
    {
     "data": {
      "text/plain": [
       "Index(['gbifID', 'datasetKey', 'occurrenceID', 'kingdom', 'phylum', 'class',\n",
       "       'order', 'family', 'genus', 'species', 'infraspecificEpithet',\n",
       "       'taxonRank', 'scientificName', 'countryCode', 'locality',\n",
       "       'publishingOrgKey', 'decimalLatitude', 'decimalLongitude',\n",
       "       'coordinateUncertaintyInMeters', 'coordinatePrecision', 'elevation',\n",
       "       'elevationAccuracy', 'depth', 'depthAccuracy', 'eventDate', 'day',\n",
       "       'month', 'year', 'taxonKey', 'speciesKey', 'basisOfRecord',\n",
       "       'institutionCode', 'collectionCode', 'catalogNumber', 'recordNumber',\n",
       "       'identifiedBy', 'dateIdentified', 'license', 'rightsHolder',\n",
       "       'recordedBy', 'typeStatus', 'establishmentMeans', 'lastInterpreted',\n",
       "       'mediaType', 'issue', 'geometry'],\n",
       "      dtype='object')"
      ]
     },
     "execution_count": 16,
     "metadata": {},
     "output_type": "execute_result"
    }
   ],
   "source": [
    "# what are the columns?\n",
    "vancouver_gbif.columns"
   ]
  },
  {
   "cell_type": "code",
   "execution_count": null,
   "metadata": {},
   "outputs": [],
   "source": [
    "vancouver_gbif = vancouver_gbif[['kingdom', 'phylum', 'class',\n",
    "                                'order', 'family', 'genus', 'species',\n",
    "                                'decimalLatitude', 'decimalLongitude', 'eventDate',\n",
    "                                'day',]]"
   ]
  },
  {
   "cell_type": "code",
   "execution_count": 25,
   "metadata": {},
   "outputs": [
    {
     "data": {
      "text/plain": [
       "81        Dacrymyces chrysospermus\n",
       "82               Branta canadensis\n",
       "83              Anas platyrhynchos\n",
       "84           Lophodytes cucullatus\n",
       "85               Melospiza melodia\n",
       "                    ...           \n",
       "553631          Trifolium pratense\n",
       "553634         Anthidium manicatum\n",
       "553637               Silene dioica\n",
       "553638       Hypholoma fasciculare\n",
       "553641              Rachiplusia ou\n",
       "Name: species, Length: 5110, dtype: object"
      ]
     },
     "execution_count": 25,
     "metadata": {},
     "output_type": "execute_result"
    }
   ],
   "source": [
    "vancouver_gbif.species"
   ]
  },
  {
   "cell_type": "code",
   "execution_count": 20,
   "metadata": {},
   "outputs": [
    {
     "data": {
      "text/html": [
       "<div>\n",
       "<style scoped>\n",
       "    .dataframe tbody tr th:only-of-type {\n",
       "        vertical-align: middle;\n",
       "    }\n",
       "\n",
       "    .dataframe tbody tr th {\n",
       "        vertical-align: top;\n",
       "    }\n",
       "\n",
       "    .dataframe thead th {\n",
       "        text-align: right;\n",
       "    }\n",
       "</style>\n",
       "<table border=\"1\" class=\"dataframe\">\n",
       "  <thead>\n",
       "    <tr style=\"text-align: right;\">\n",
       "      <th></th>\n",
       "      <th>gbifID</th>\n",
       "      <th>datasetKey</th>\n",
       "      <th>occurrenceID</th>\n",
       "      <th>kingdom</th>\n",
       "      <th>phylum</th>\n",
       "      <th>class</th>\n",
       "      <th>order</th>\n",
       "      <th>family</th>\n",
       "      <th>genus</th>\n",
       "      <th>species</th>\n",
       "      <th>...</th>\n",
       "      <th>dateIdentified</th>\n",
       "      <th>license</th>\n",
       "      <th>rightsHolder</th>\n",
       "      <th>recordedBy</th>\n",
       "      <th>typeStatus</th>\n",
       "      <th>establishmentMeans</th>\n",
       "      <th>lastInterpreted</th>\n",
       "      <th>mediaType</th>\n",
       "      <th>issue</th>\n",
       "      <th>geometry</th>\n",
       "    </tr>\n",
       "  </thead>\n",
       "  <tbody>\n",
       "    <tr>\n",
       "      <th>81</th>\n",
       "      <td>1065607488</td>\n",
       "      <td>50c9509d-22c7-4a22-a47d-8c48425ef4a7</td>\n",
       "      <td>http://www.inaturalist.org/observations/1220290</td>\n",
       "      <td>Fungi</td>\n",
       "      <td>Basidiomycota</td>\n",
       "      <td>Dacrymycetes</td>\n",
       "      <td>Dacrymycetales</td>\n",
       "      <td>Dacrymycetaceae</td>\n",
       "      <td>Dacrymyces</td>\n",
       "      <td>Dacrymyces chrysospermus</td>\n",
       "      <td>...</td>\n",
       "      <td>2018-12-15T03:01:47Z</td>\n",
       "      <td>CC_BY_NC_4_0</td>\n",
       "      <td>Riley Pollom</td>\n",
       "      <td>Riley Pollom</td>\n",
       "      <td>NaN</td>\n",
       "      <td>NaN</td>\n",
       "      <td>2019-03-19T19:27:43.497Z</td>\n",
       "      <td>NaN</td>\n",
       "      <td>COORDINATE_ROUNDED;GEODETIC_DATUM_ASSUMED_WGS84</td>\n",
       "      <td>POINT (-123.13854 49.30549)</td>\n",
       "    </tr>\n",
       "  </tbody>\n",
       "</table>\n",
       "<p>1 rows × 46 columns</p>\n",
       "</div>"
      ],
      "text/plain": [
       "        gbifID                            datasetKey  \\\n",
       "81  1065607488  50c9509d-22c7-4a22-a47d-8c48425ef4a7   \n",
       "\n",
       "                                       occurrenceID kingdom         phylum  \\\n",
       "81  http://www.inaturalist.org/observations/1220290   Fungi  Basidiomycota   \n",
       "\n",
       "           class           order           family       genus  \\\n",
       "81  Dacrymycetes  Dacrymycetales  Dacrymycetaceae  Dacrymyces   \n",
       "\n",
       "                     species  ...        dateIdentified       license  \\\n",
       "81  Dacrymyces chrysospermus  ...  2018-12-15T03:01:47Z  CC_BY_NC_4_0   \n",
       "\n",
       "    rightsHolder    recordedBy  typeStatus establishmentMeans  \\\n",
       "81  Riley Pollom  Riley Pollom         NaN                NaN   \n",
       "\n",
       "             lastInterpreted  mediaType  \\\n",
       "81  2019-03-19T19:27:43.497Z        NaN   \n",
       "\n",
       "                                              issue  \\\n",
       "81  COORDINATE_ROUNDED;GEODETIC_DATUM_ASSUMED_WGS84   \n",
       "\n",
       "                       geometry  \n",
       "81  POINT (-123.13854 49.30549)  \n",
       "\n",
       "[1 rows x 46 columns]"
      ]
     },
     "execution_count": 20,
     "metadata": {},
     "output_type": "execute_result"
    }
   ],
   "source": [
    "vancouver_gbif.head(1)"
   ]
  },
  {
   "cell_type": "code",
   "execution_count": null,
   "metadata": {},
   "outputs": [],
   "source": []
  }
 ],
 "metadata": {
  "kernelspec": {
   "display_name": "Python 3",
   "language": "python",
   "name": "python3"
  },
  "language_info": {
   "codemirror_mode": {
    "name": "ipython",
    "version": 3
   },
   "file_extension": ".py",
   "mimetype": "text/x-python",
   "name": "python",
   "nbconvert_exporter": "python",
   "pygments_lexer": "ipython3",
   "version": "3.8.2"
  }
 },
 "nbformat": 4,
 "nbformat_minor": 4
}
