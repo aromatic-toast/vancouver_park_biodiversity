{
 "cells": [
  {
   "cell_type": "markdown",
   "metadata": {},
   "source": [
    "# Exploratory Data Analysis "
   ]
  },
  {
   "cell_type": "markdown",
   "metadata": {},
   "source": [
    "## import libraries "
   ]
  },
  {
   "cell_type": "code",
   "execution_count": 152,
   "metadata": {},
   "outputs": [],
   "source": [
    "import geopandas as gpd\n",
    "from pygeos import STRtree\n",
    "from pygeos.creation import points, polygons\n",
    "from pygeos.geometry import Geometry\n",
    "from time import time"
   ]
  },
  {
   "cell_type": "markdown",
   "metadata": {},
   "source": [
    "## GBIF EDA\n",
    "\n"
   ]
  },
  {
   "cell_type": "markdown",
   "metadata": {},
   "source": [
    "## load data \n"
   ]
  },
  {
   "cell_type": "code",
   "execution_count": 21,
   "metadata": {},
   "outputs": [],
   "source": [
    "# load gbif \n",
    "gbif = gpd.read_file('../data/clean_data/vancouver_gbif.shp')\n",
    "\n",
    "# load parks \n",
    "parks = gpd.read_file('../data/clean_data/vancouver_parks.shp')"
   ]
  },
  {
   "cell_type": "code",
   "execution_count": 3,
   "metadata": {},
   "outputs": [
    {
     "data": {
      "text/html": [
       "<div>\n",
       "<style scoped>\n",
       "    .dataframe tbody tr th:only-of-type {\n",
       "        vertical-align: middle;\n",
       "    }\n",
       "\n",
       "    .dataframe tbody tr th {\n",
       "        vertical-align: top;\n",
       "    }\n",
       "\n",
       "    .dataframe thead th {\n",
       "        text-align: right;\n",
       "    }\n",
       "</style>\n",
       "<table border=\"1\" class=\"dataframe\">\n",
       "  <thead>\n",
       "    <tr style=\"text-align: right;\">\n",
       "      <th></th>\n",
       "      <th>kingdom</th>\n",
       "      <th>phylum</th>\n",
       "      <th>class</th>\n",
       "      <th>order</th>\n",
       "      <th>family</th>\n",
       "      <th>genus</th>\n",
       "      <th>species</th>\n",
       "      <th>latitude</th>\n",
       "      <th>longitude</th>\n",
       "      <th>timestamp</th>\n",
       "      <th>day</th>\n",
       "      <th>month</th>\n",
       "      <th>year</th>\n",
       "      <th>basis_of_r</th>\n",
       "      <th>geometry</th>\n",
       "    </tr>\n",
       "  </thead>\n",
       "  <tbody>\n",
       "    <tr>\n",
       "      <th>0</th>\n",
       "      <td>Fungi</td>\n",
       "      <td>Basidiomycota</td>\n",
       "      <td>Dacrymycetes</td>\n",
       "      <td>Dacrymycetales</td>\n",
       "      <td>Dacrymycetaceae</td>\n",
       "      <td>Dacrymyces</td>\n",
       "      <td>Dacrymyces chrysospermus</td>\n",
       "      <td>49.305487</td>\n",
       "      <td>-123.138538</td>\n",
       "      <td>2015-02-08T13:15:50Z</td>\n",
       "      <td>8</td>\n",
       "      <td>2</td>\n",
       "      <td>2015</td>\n",
       "      <td>HUMAN_OBSERVATION</td>\n",
       "      <td>POINT (-123.13854 49.30549)</td>\n",
       "    </tr>\n",
       "    <tr>\n",
       "      <th>1</th>\n",
       "      <td>Animalia</td>\n",
       "      <td>Chordata</td>\n",
       "      <td>Aves</td>\n",
       "      <td>Anseriformes</td>\n",
       "      <td>Anatidae</td>\n",
       "      <td>Branta</td>\n",
       "      <td>Branta canadensis</td>\n",
       "      <td>49.279785</td>\n",
       "      <td>-123.138956</td>\n",
       "      <td>2015-02-08T16:28:30Z</td>\n",
       "      <td>8</td>\n",
       "      <td>2</td>\n",
       "      <td>2015</td>\n",
       "      <td>HUMAN_OBSERVATION</td>\n",
       "      <td>POINT (-123.13896 49.27978)</td>\n",
       "    </tr>\n",
       "    <tr>\n",
       "      <th>2</th>\n",
       "      <td>Animalia</td>\n",
       "      <td>Chordata</td>\n",
       "      <td>Aves</td>\n",
       "      <td>Anseriformes</td>\n",
       "      <td>Anatidae</td>\n",
       "      <td>Anas</td>\n",
       "      <td>Anas platyrhynchos</td>\n",
       "      <td>49.276400</td>\n",
       "      <td>-123.145512</td>\n",
       "      <td>2015-02-09T08:50:46Z</td>\n",
       "      <td>9</td>\n",
       "      <td>2</td>\n",
       "      <td>2015</td>\n",
       "      <td>HUMAN_OBSERVATION</td>\n",
       "      <td>POINT (-123.14551 49.27640)</td>\n",
       "    </tr>\n",
       "    <tr>\n",
       "      <th>3</th>\n",
       "      <td>Animalia</td>\n",
       "      <td>Chordata</td>\n",
       "      <td>Aves</td>\n",
       "      <td>Anseriformes</td>\n",
       "      <td>Anatidae</td>\n",
       "      <td>Lophodytes</td>\n",
       "      <td>Lophodytes cucullatus</td>\n",
       "      <td>49.279637</td>\n",
       "      <td>-123.139337</td>\n",
       "      <td>2015-02-09T08:42:00Z</td>\n",
       "      <td>9</td>\n",
       "      <td>2</td>\n",
       "      <td>2015</td>\n",
       "      <td>HUMAN_OBSERVATION</td>\n",
       "      <td>POINT (-123.13934 49.27964)</td>\n",
       "    </tr>\n",
       "    <tr>\n",
       "      <th>4</th>\n",
       "      <td>Animalia</td>\n",
       "      <td>Chordata</td>\n",
       "      <td>Aves</td>\n",
       "      <td>Passeriformes</td>\n",
       "      <td>Emberizidae</td>\n",
       "      <td>Melospiza</td>\n",
       "      <td>Melospiza melodia</td>\n",
       "      <td>49.285406</td>\n",
       "      <td>-123.143340</td>\n",
       "      <td>2015-02-09T09:51:57Z</td>\n",
       "      <td>9</td>\n",
       "      <td>2</td>\n",
       "      <td>2015</td>\n",
       "      <td>HUMAN_OBSERVATION</td>\n",
       "      <td>POINT (-123.14334 49.28541)</td>\n",
       "    </tr>\n",
       "  </tbody>\n",
       "</table>\n",
       "</div>"
      ],
      "text/plain": [
       "    kingdom         phylum         class           order           family  \\\n",
       "0     Fungi  Basidiomycota  Dacrymycetes  Dacrymycetales  Dacrymycetaceae   \n",
       "1  Animalia       Chordata          Aves    Anseriformes         Anatidae   \n",
       "2  Animalia       Chordata          Aves    Anseriformes         Anatidae   \n",
       "3  Animalia       Chordata          Aves    Anseriformes         Anatidae   \n",
       "4  Animalia       Chordata          Aves   Passeriformes      Emberizidae   \n",
       "\n",
       "        genus                   species   latitude   longitude  \\\n",
       "0  Dacrymyces  Dacrymyces chrysospermus  49.305487 -123.138538   \n",
       "1      Branta         Branta canadensis  49.279785 -123.138956   \n",
       "2        Anas        Anas platyrhynchos  49.276400 -123.145512   \n",
       "3  Lophodytes     Lophodytes cucullatus  49.279637 -123.139337   \n",
       "4   Melospiza         Melospiza melodia  49.285406 -123.143340   \n",
       "\n",
       "              timestamp  day  month  year         basis_of_r  \\\n",
       "0  2015-02-08T13:15:50Z    8      2  2015  HUMAN_OBSERVATION   \n",
       "1  2015-02-08T16:28:30Z    8      2  2015  HUMAN_OBSERVATION   \n",
       "2  2015-02-09T08:50:46Z    9      2  2015  HUMAN_OBSERVATION   \n",
       "3  2015-02-09T08:42:00Z    9      2  2015  HUMAN_OBSERVATION   \n",
       "4  2015-02-09T09:51:57Z    9      2  2015  HUMAN_OBSERVATION   \n",
       "\n",
       "                      geometry  \n",
       "0  POINT (-123.13854 49.30549)  \n",
       "1  POINT (-123.13896 49.27978)  \n",
       "2  POINT (-123.14551 49.27640)  \n",
       "3  POINT (-123.13934 49.27964)  \n",
       "4  POINT (-123.14334 49.28541)  "
      ]
     },
     "execution_count": 3,
     "metadata": {},
     "output_type": "execute_result"
    }
   ],
   "source": [
    "gbif.head()"
   ]
  },
  {
   "cell_type": "code",
   "execution_count": 19,
   "metadata": {},
   "outputs": [
    {
     "name": "stdout",
     "output_type": "stream",
     "text": [
      "The count of total observations: 5110.\n",
      "\n",
      "The years of observations span 2009 to 2019.\n",
      "\n",
      "The count of unique months where observations are made: 12.\n",
      "\n"
     ]
    }
   ],
   "source": [
    "print(\"The count of total observations: {}.\\n\".format(gbif.shape[0]))\n",
    "print(\"The years of observations span {0} to {1}.\\n\".format(gbif.year.min(), gbif.year.max()))\n",
    "print(\"The count of unique months where observations are made: {}.\\n\".format(gbif.month.nunique()))"
   ]
  },
  {
   "cell_type": "code",
   "execution_count": 18,
   "metadata": {},
   "outputs": [
    {
     "name": "stdout",
     "output_type": "stream",
     "text": [
      "The count of unique kingdom represented is: 5\n",
      "\n",
      "The count of unique phylum represented is: 16\n",
      "\n",
      "The count of unique class represented is: 43\n",
      "\n",
      "The count of unique order represented is: 135\n",
      "\n",
      "The count of unique family represented is: 350\n",
      "\n",
      "The count of unique genus represented is: 672\n",
      "\n",
      "The count of unique species represented is: 881\n",
      "\n"
     ]
    }
   ],
   "source": [
    "taxonomy = ['kingdom', 'phylum', 'class', 'order', 'family', 'genus', 'species']\n",
    "for level in taxonomy:\n",
    "    print(\"The count of unique {0} represented is: {1}\\n\".format(level, gbif[level].nunique()))"
   ]
  },
  {
   "cell_type": "markdown",
   "metadata": {},
   "source": [
    "# get species that are observed in parks \n",
    "\n",
    "In order to capture species observations that occurr right along the border of parks, each park polygon will be buffered to 10m so that observations that are on or just outside the official park border are included. "
   ]
  },
  {
   "cell_type": "markdown",
   "metadata": {},
   "source": [
    "### buffer parks \n",
    "\n",
    "Will do this later when I find the correct CRS to re-project the GBIF data into. "
   ]
  },
  {
   "cell_type": "code",
   "execution_count": 23,
   "metadata": {},
   "outputs": [],
   "source": [
    "# clip the gbif data to inside parks \n",
    "clipped_gbif = gpd.clip(gdf=gbif, mask=parks)"
   ]
  },
  {
   "cell_type": "code",
   "execution_count": 24,
   "metadata": {},
   "outputs": [
    {
     "name": "stdout",
     "output_type": "stream",
     "text": [
      "The count of park observations: 2638.\n",
      "\n",
      "The years of parks observations span 2009 to 2019.\n",
      "\n",
      "The count of unique months where park observations are made: 12.\n",
      "\n"
     ]
    }
   ],
   "source": [
    "print(\"The count of park observations: {}.\\n\".format(clipped_gbif.shape[0]))\n",
    "print(\"The years of parks observations span {0} to {1}.\\n\".format(gbif.year.min(), clipped_gbif.year.max()))\n",
    "print(\"The count of unique months where park observations are made: {}.\\n\".format(clipped_gbif.month.nunique()))"
   ]
  },
  {
   "cell_type": "code",
   "execution_count": 25,
   "metadata": {},
   "outputs": [
    {
     "name": "stdout",
     "output_type": "stream",
     "text": [
      "The count of unique kingdom represented is: 5\n",
      "\n",
      "The count of unique phylum represented is: 15\n",
      "\n",
      "The count of unique class represented is: 37\n",
      "\n",
      "The count of unique order represented is: 107\n",
      "\n",
      "The count of unique family represented is: 244\n",
      "\n",
      "The count of unique genus represented is: 429\n",
      "\n",
      "The count of unique species represented is: 556\n",
      "\n"
     ]
    }
   ],
   "source": [
    "taxonomy = ['kingdom', 'phylum', 'class', 'order', 'family', 'genus', 'species']\n",
    "for level in taxonomy:\n",
    "    print(\"The count of unique {0} represented is: {1}\\n\".format(level, clipped_gbif[level].nunique()))"
   ]
  },
  {
   "cell_type": "code",
   "execution_count": 41,
   "metadata": {},
   "outputs": [
    {
     "name": "stdout",
     "output_type": "stream",
     "text": [
      "Percentage of gbif obsevations that are found in parks: 51.62 %.\n"
     ]
    }
   ],
   "source": [
    "# proportion of gbif that is found in parks \n",
    "prop = round((len(clipped_gbif)/len(gbif))*100, 2)\n",
    "print(\"Percentage of gbif obsevations that are found in parks: {} %.\".format(prop))"
   ]
  },
  {
   "cell_type": "markdown",
   "metadata": {},
   "source": [
    "## Parks EDA\n"
   ]
  },
  {
   "cell_type": "code",
   "execution_count": 26,
   "metadata": {},
   "outputs": [
    {
     "data": {
      "text/html": [
       "<div>\n",
       "<style scoped>\n",
       "    .dataframe tbody tr th:only-of-type {\n",
       "        vertical-align: middle;\n",
       "    }\n",
       "\n",
       "    .dataframe tbody tr th {\n",
       "        vertical-align: top;\n",
       "    }\n",
       "\n",
       "    .dataframe thead th {\n",
       "        text-align: right;\n",
       "    }\n",
       "</style>\n",
       "<table border=\"1\" class=\"dataframe\">\n",
       "  <thead>\n",
       "    <tr style=\"text-align: right;\">\n",
       "      <th></th>\n",
       "      <th>park_name</th>\n",
       "      <th>park_type</th>\n",
       "      <th>park_prima</th>\n",
       "      <th>latitude</th>\n",
       "      <th>longitude</th>\n",
       "      <th>geometry</th>\n",
       "    </tr>\n",
       "  </thead>\n",
       "  <tbody>\n",
       "    <tr>\n",
       "      <th>0</th>\n",
       "      <td>Locarno Park</td>\n",
       "      <td>Local</td>\n",
       "      <td>Park</td>\n",
       "      <td>49.274275</td>\n",
       "      <td>-123.207753</td>\n",
       "      <td>MULTIPOLYGON (((-123.21241 49.27645, -123.2120...</td>\n",
       "    </tr>\n",
       "    <tr>\n",
       "      <th>1</th>\n",
       "      <td>Macdonald Park</td>\n",
       "      <td>Local</td>\n",
       "      <td>Park</td>\n",
       "      <td>49.229759</td>\n",
       "      <td>-123.098392</td>\n",
       "      <td>POLYGON ((-123.09928 49.23014, -123.09747 49.2...</td>\n",
       "    </tr>\n",
       "    <tr>\n",
       "      <th>2</th>\n",
       "      <td>Maclean Park</td>\n",
       "      <td>Local</td>\n",
       "      <td>Park</td>\n",
       "      <td>49.278819</td>\n",
       "      <td>-123.088448</td>\n",
       "      <td>POLYGON ((-123.08750 49.27845, -123.08757 49.2...</td>\n",
       "    </tr>\n",
       "    <tr>\n",
       "      <th>3</th>\n",
       "      <td>Major Matthews Park</td>\n",
       "      <td>Local</td>\n",
       "      <td>Park</td>\n",
       "      <td>49.261583</td>\n",
       "      <td>-123.107233</td>\n",
       "      <td>POLYGON ((-123.10744 49.26170, -123.10702 49.2...</td>\n",
       "    </tr>\n",
       "    <tr>\n",
       "      <th>4</th>\n",
       "      <td>Malkin Park</td>\n",
       "      <td>Local</td>\n",
       "      <td>Park</td>\n",
       "      <td>49.231957</td>\n",
       "      <td>-123.176939</td>\n",
       "      <td>POLYGON ((-123.17791 49.23119, -123.17791 49.2...</td>\n",
       "    </tr>\n",
       "  </tbody>\n",
       "</table>\n",
       "</div>"
      ],
      "text/plain": [
       "             park_name park_type park_prima   latitude   longitude  \\\n",
       "0         Locarno Park     Local       Park  49.274275 -123.207753   \n",
       "1       Macdonald Park     Local       Park  49.229759 -123.098392   \n",
       "2         Maclean Park     Local       Park  49.278819 -123.088448   \n",
       "3  Major Matthews Park     Local       Park  49.261583 -123.107233   \n",
       "4          Malkin Park     Local       Park  49.231957 -123.176939   \n",
       "\n",
       "                                            geometry  \n",
       "0  MULTIPOLYGON (((-123.21241 49.27645, -123.2120...  \n",
       "1  POLYGON ((-123.09928 49.23014, -123.09747 49.2...  \n",
       "2  POLYGON ((-123.08750 49.27845, -123.08757 49.2...  \n",
       "3  POLYGON ((-123.10744 49.26170, -123.10702 49.2...  \n",
       "4  POLYGON ((-123.17791 49.23119, -123.17791 49.2...  "
      ]
     },
     "execution_count": 26,
     "metadata": {},
     "output_type": "execute_result"
    }
   ],
   "source": [
    "parks.head()"
   ]
  },
  {
   "cell_type": "code",
   "execution_count": 32,
   "metadata": {},
   "outputs": [
    {
     "name": "stdout",
     "output_type": "stream",
     "text": [
      "The count of total parks: 227\n",
      "\n",
      "The count of unique park types: 2\n",
      "\n",
      "The count of unique primary park uses: 9\n",
      "\n"
     ]
    }
   ],
   "source": [
    "print(\"The count of total parks: {}\\n\".format(parks.park_name.nunique()))\n",
    "print(\"The count of unique park types: {}\\n\".format(parks.park_type.nunique()))\n",
    "print(\"The count of unique primary park uses: {}\\n\".format(parks.park_prima.nunique()))"
   ]
  },
  {
   "cell_type": "code",
   "execution_count": 35,
   "metadata": {},
   "outputs": [
    {
     "name": "stdout",
     "output_type": "stream",
     "text": [
      "Local\n",
      "Regional\n"
     ]
    }
   ],
   "source": [
    "for park_type in parks.park_type.unique():\n",
    "    print(park_type)"
   ]
  },
  {
   "cell_type": "code",
   "execution_count": 36,
   "metadata": {},
   "outputs": [
    {
     "name": "stdout",
     "output_type": "stream",
     "text": [
      "Park\n",
      "Green Space\n",
      "Trail\n",
      "Golf Course\n",
      "Athletic\n",
      "Playground\n",
      "Plaza\n",
      "Water Access\n",
      "School Park\n"
     ]
    }
   ],
   "source": [
    "for use in parks.park_prima.unique():\n",
    "    print(use)"
   ]
  },
  {
   "cell_type": "markdown",
   "metadata": {},
   "source": [
    "# determine species count for each park "
   ]
  },
  {
   "cell_type": "markdown",
   "metadata": {},
   "source": [
    "### build STR tree"
   ]
  },
  {
   "cell_type": "code",
   "execution_count": 72,
   "metadata": {},
   "outputs": [],
   "source": [
    "coords = points(clipped_gbif.longitude, clipped_gbif.latitude)\n",
    "gbif_tree = STRtree(coords)"
   ]
  },
  {
   "cell_type": "code",
   "execution_count": 73,
   "metadata": {},
   "outputs": [
    {
     "data": {
      "text/html": [
       "<div>\n",
       "<style scoped>\n",
       "    .dataframe tbody tr th:only-of-type {\n",
       "        vertical-align: middle;\n",
       "    }\n",
       "\n",
       "    .dataframe tbody tr th {\n",
       "        vertical-align: top;\n",
       "    }\n",
       "\n",
       "    .dataframe thead th {\n",
       "        text-align: right;\n",
       "    }\n",
       "</style>\n",
       "<table border=\"1\" class=\"dataframe\">\n",
       "  <thead>\n",
       "    <tr style=\"text-align: right;\">\n",
       "      <th></th>\n",
       "      <th>park_name</th>\n",
       "      <th>park_type</th>\n",
       "      <th>park_prima</th>\n",
       "      <th>latitude</th>\n",
       "      <th>longitude</th>\n",
       "      <th>geometry</th>\n",
       "    </tr>\n",
       "  </thead>\n",
       "  <tbody>\n",
       "    <tr>\n",
       "      <th>225</th>\n",
       "      <td>Pacific Spirit Park</td>\n",
       "      <td>Regional</td>\n",
       "      <td>Park</td>\n",
       "      <td>49.251873</td>\n",
       "      <td>-123.19527</td>\n",
       "      <td>POLYGON ((-123.19604 49.25463, -123.19604 49.2...</td>\n",
       "    </tr>\n",
       "  </tbody>\n",
       "</table>\n",
       "</div>"
      ],
      "text/plain": [
       "               park_name park_type park_prima   latitude  longitude  \\\n",
       "225  Pacific Spirit Park  Regional       Park  49.251873 -123.19527   \n",
       "\n",
       "                                              geometry  \n",
       "225  POLYGON ((-123.19604 49.25463, -123.19604 49.2...  "
      ]
     },
     "execution_count": 73,
     "metadata": {},
     "output_type": "execute_result"
    }
   ],
   "source": [
    "pacific_spirit = parks.query('park_name == \"Pacific Spirit Park\"')\n",
    "pacific_spirit"
   ]
  },
  {
   "cell_type": "code",
   "execution_count": 145,
   "metadata": {},
   "outputs": [
    {
     "ename": "GEOSException",
     "evalue": "Shell is not a LinearRing",
     "output_type": "error",
     "traceback": [
      "\u001b[0;31m---------------------------------------------------------------------------\u001b[0m",
      "\u001b[0;31mGEOSException\u001b[0m                             Traceback (most recent call last)",
      "\u001b[0;32m<ipython-input-145-bdfae231d87c>\u001b[0m in \u001b[0;36m<module>\u001b[0;34m\u001b[0m\n\u001b[0;32m----> 1\u001b[0;31m \u001b[0mpolygons\u001b[0m\u001b[0;34m(\u001b[0m\u001b[0mGeometry\u001b[0m\u001b[0;34m(\u001b[0m\u001b[0mstr\u001b[0m\u001b[0;34m(\u001b[0m\u001b[0mpacific_spirit\u001b[0m\u001b[0;34m.\u001b[0m\u001b[0mgeometry\u001b[0m\u001b[0;34m.\u001b[0m\u001b[0mvalues\u001b[0m\u001b[0;34m[\u001b[0m\u001b[0;36m0\u001b[0m\u001b[0;34m]\u001b[0m\u001b[0;34m)\u001b[0m\u001b[0;34m)\u001b[0m\u001b[0;34m)\u001b[0m\u001b[0;34m\u001b[0m\u001b[0;34m\u001b[0m\u001b[0m\n\u001b[0m",
      "\u001b[0;32m~/.pyenv/versions/3.8.2/envs/van_park_biodiv/lib/python3.8/site-packages/pygeos/creation.py\u001b[0m in \u001b[0;36mpolygons\u001b[0;34m(shells, holes)\u001b[0m\n\u001b[1;32m     88\u001b[0m \u001b[0;34m\u001b[0m\u001b[0m\n\u001b[1;32m     89\u001b[0m     \u001b[0;32mif\u001b[0m \u001b[0mholes\u001b[0m \u001b[0;32mis\u001b[0m \u001b[0;32mNone\u001b[0m\u001b[0;34m:\u001b[0m\u001b[0;34m\u001b[0m\u001b[0;34m\u001b[0m\u001b[0m\n\u001b[0;32m---> 90\u001b[0;31m         \u001b[0;32mreturn\u001b[0m \u001b[0mlib\u001b[0m\u001b[0;34m.\u001b[0m\u001b[0mpolygons_without_holes\u001b[0m\u001b[0;34m(\u001b[0m\u001b[0mshells\u001b[0m\u001b[0;34m)\u001b[0m\u001b[0;34m\u001b[0m\u001b[0;34m\u001b[0m\u001b[0m\n\u001b[0m\u001b[1;32m     91\u001b[0m \u001b[0;34m\u001b[0m\u001b[0m\n\u001b[1;32m     92\u001b[0m     \u001b[0mholes\u001b[0m \u001b[0;34m=\u001b[0m \u001b[0mnp\u001b[0m\u001b[0;34m.\u001b[0m\u001b[0masarray\u001b[0m\u001b[0;34m(\u001b[0m\u001b[0mholes\u001b[0m\u001b[0;34m)\u001b[0m\u001b[0;34m\u001b[0m\u001b[0;34m\u001b[0m\u001b[0m\n",
      "\u001b[0;31mGEOSException\u001b[0m: Shell is not a LinearRing"
     ]
    }
   ],
   "source": [
    "polygons(Geometry(str(pacific_spirit.geometry.values[0])))"
   ]
  },
  {
   "cell_type": "code",
   "execution_count": 140,
   "metadata": {},
   "outputs": [],
   "source": [
    "pac_spirit_geom = Geometry(str(pacific_spirit.geometry.values[0]))"
   ]
  },
  {
   "cell_type": "code",
   "execution_count": 141,
   "metadata": {},
   "outputs": [
    {
     "ename": "SystemError",
     "evalue": "<method 'query' of 'pygeos.lib.STRtree' objects> returned a result with an error set",
     "output_type": "error",
     "traceback": [
      "\u001b[0;31m---------------------------------------------------------------------------\u001b[0m",
      "\u001b[0;31mGEOSException\u001b[0m                             Traceback (most recent call last)",
      "\u001b[0;31mGEOSException\u001b[0m: IllegalArgumentException: Argument must be Polygonal or LinearRing",
      "\nThe above exception was the direct cause of the following exception:\n",
      "\u001b[0;31mSystemError\u001b[0m                               Traceback (most recent call last)",
      "\u001b[0;32m<ipython-input-141-4075fe6727a7>\u001b[0m in \u001b[0;36m<module>\u001b[0;34m\u001b[0m\n\u001b[0;32m----> 1\u001b[0;31m \u001b[0mgbif_tree\u001b[0m\u001b[0;34m.\u001b[0m\u001b[0mquery\u001b[0m\u001b[0;34m(\u001b[0m\u001b[0mpac_spirit_geom\u001b[0m\u001b[0;34m,\u001b[0m \u001b[0mpredicate\u001b[0m\u001b[0;34m=\u001b[0m\u001b[0;34m'contains'\u001b[0m\u001b[0;34m)\u001b[0m\u001b[0;34m\u001b[0m\u001b[0;34m\u001b[0m\u001b[0m\n\u001b[0m",
      "\u001b[0;32m~/.pyenv/versions/3.8.2/envs/van_park_biodiv/lib/python3.8/site-packages/pygeos/strtree.py\u001b[0m in \u001b[0;36mquery\u001b[0;34m(self, geometry, predicate)\u001b[0m\n\u001b[1;32m    108\u001b[0m             \u001b[0mpredicate\u001b[0m \u001b[0;34m=\u001b[0m \u001b[0mBinaryPredicate\u001b[0m\u001b[0;34m[\u001b[0m\u001b[0mpredicate\u001b[0m\u001b[0;34m]\u001b[0m\u001b[0;34m.\u001b[0m\u001b[0mvalue\u001b[0m\u001b[0;34m\u001b[0m\u001b[0;34m\u001b[0m\u001b[0m\n\u001b[1;32m    109\u001b[0m \u001b[0;34m\u001b[0m\u001b[0m\n\u001b[0;32m--> 110\u001b[0;31m         \u001b[0;32mreturn\u001b[0m \u001b[0mself\u001b[0m\u001b[0;34m.\u001b[0m\u001b[0m_tree\u001b[0m\u001b[0;34m.\u001b[0m\u001b[0mquery\u001b[0m\u001b[0;34m(\u001b[0m\u001b[0mgeometry\u001b[0m\u001b[0;34m,\u001b[0m \u001b[0mpredicate\u001b[0m\u001b[0;34m)\u001b[0m\u001b[0;34m\u001b[0m\u001b[0;34m\u001b[0m\u001b[0m\n\u001b[0m\u001b[1;32m    111\u001b[0m \u001b[0;34m\u001b[0m\u001b[0m\n\u001b[1;32m    112\u001b[0m     \u001b[0;32mdef\u001b[0m \u001b[0mquery_bulk\u001b[0m\u001b[0;34m(\u001b[0m\u001b[0mself\u001b[0m\u001b[0;34m,\u001b[0m \u001b[0mgeometry\u001b[0m\u001b[0;34m,\u001b[0m \u001b[0mpredicate\u001b[0m\u001b[0;34m=\u001b[0m\u001b[0;32mNone\u001b[0m\u001b[0;34m)\u001b[0m\u001b[0;34m:\u001b[0m\u001b[0;34m\u001b[0m\u001b[0;34m\u001b[0m\u001b[0m\n",
      "\u001b[0;31mSystemError\u001b[0m: <method 'query' of 'pygeos.lib.STRtree' objects> returned a result with an error set"
     ]
    }
   ],
   "source": [
    "gbif_tree.query(pac_spirit_geom, predicate='contains')"
   ]
  },
  {
   "cell_type": "code",
   "execution_count": 82,
   "metadata": {},
   "outputs": [
    {
     "data": {
      "text/plain": [
       "pygeos.lib.GEOSGeometry"
      ]
     },
     "execution_count": 82,
     "metadata": {},
     "output_type": "execute_result"
    }
   ],
   "source": [
    "type(pac_spirit_geom)"
   ]
  },
  {
   "cell_type": "markdown",
   "metadata": {},
   "source": [
    "# use geopandas clip instead "
   ]
  },
  {
   "cell_type": "code",
   "execution_count": 155,
   "metadata": {},
   "outputs": [
    {
     "data": {
      "text/html": [
       "<div>\n",
       "<style scoped>\n",
       "    .dataframe tbody tr th:only-of-type {\n",
       "        vertical-align: middle;\n",
       "    }\n",
       "\n",
       "    .dataframe tbody tr th {\n",
       "        vertical-align: top;\n",
       "    }\n",
       "\n",
       "    .dataframe thead th {\n",
       "        text-align: right;\n",
       "    }\n",
       "</style>\n",
       "<table border=\"1\" class=\"dataframe\">\n",
       "  <thead>\n",
       "    <tr style=\"text-align: right;\">\n",
       "      <th></th>\n",
       "      <th>park_name</th>\n",
       "      <th>park_type</th>\n",
       "      <th>park_prima</th>\n",
       "      <th>latitude</th>\n",
       "      <th>longitude</th>\n",
       "      <th>geometry</th>\n",
       "    </tr>\n",
       "  </thead>\n",
       "  <tbody>\n",
       "    <tr>\n",
       "      <th>150</th>\n",
       "      <td>Stanley Park</td>\n",
       "      <td>Local</td>\n",
       "      <td>Park</td>\n",
       "      <td>49.302136</td>\n",
       "      <td>-123.140049</td>\n",
       "      <td>POLYGON ((-123.13845 49.29360, -123.14156 49.2...</td>\n",
       "    </tr>\n",
       "    <tr>\n",
       "      <th>225</th>\n",
       "      <td>Pacific Spirit Park</td>\n",
       "      <td>Regional</td>\n",
       "      <td>Park</td>\n",
       "      <td>49.251873</td>\n",
       "      <td>-123.195270</td>\n",
       "      <td>POLYGON ((-123.19604 49.25463, -123.19604 49.2...</td>\n",
       "    </tr>\n",
       "  </tbody>\n",
       "</table>\n",
       "</div>"
      ],
      "text/plain": [
       "               park_name park_type park_prima   latitude   longitude  \\\n",
       "150         Stanley Park     Local       Park  49.302136 -123.140049   \n",
       "225  Pacific Spirit Park  Regional       Park  49.251873 -123.195270   \n",
       "\n",
       "                                              geometry  \n",
       "150  POLYGON ((-123.13845 49.29360, -123.14156 49.2...  \n",
       "225  POLYGON ((-123.19604 49.25463, -123.19604 49.2...  "
      ]
     },
     "execution_count": 155,
     "metadata": {},
     "output_type": "execute_result"
    }
   ],
   "source": [
    "truncated_parks = parks.query('park_name == \"Pacific Spirit Park\" | park_name == \"Stanley Park\"')\n",
    "truncated_parks"
   ]
  },
  {
   "cell_type": "code",
   "execution_count": 177,
   "metadata": {},
   "outputs": [
    {
     "data": {
      "text/plain": [
       "geopandas.geodataframe.GeoDataFrame"
      ]
     },
     "execution_count": 177,
     "metadata": {},
     "output_type": "execute_result"
    }
   ],
   "source": [
    "type(truncated_parks)"
   ]
  },
  {
   "cell_type": "code",
   "execution_count": 171,
   "metadata": {},
   "outputs": [
    {
     "name": "stdout",
     "output_type": "stream",
     "text": [
      "Clipping time for 1 park: 0.8060381412506104\n",
      "Clipping time for 1 park: 0.3615880012512207\n"
     ]
    }
   ],
   "source": [
    "num_species = []\n",
    "for park in truncated_parks.geometry:\n",
    "    start_time = time()\n",
    "    \n",
    "    # clip gbif points to a single park \n",
    "    park_species = gpd.clip(gdf=gbif, mask=park)\n",
    "    \n",
    "    stop_time = time()\n",
    "    total = stop_time - start_time\n",
    "    print(\"Clipping time for 1 park: {}\".format(total))\n",
    "    \n",
    "    # store the number of species clipped for each park \n",
    "    num_species.append(len(park_species))\n",
    "    "
   ]
  },
  {
   "cell_type": "code",
   "execution_count": 180,
   "metadata": {},
   "outputs": [],
   "source": [
    "def add_species_counts(species_gdf, parks_gdf):\n",
    "    \"\"\"\n",
    "    Add a column to parks_gdf for count of species that have been clipped to inside the park. \n",
    "    \n",
    "    Arguments\n",
    "    ---------\n",
    "    species_gdf (GeoDataFrame) : a dataframe of species occurrence data from GBIF. \n",
    "    parks_gdf  (GeoDataFrame)  : a dataframe of parks polygons. \n",
    "    \n",
    "    Returns \n",
    "    -------\n",
    "    GeoDataFrame\n",
    "        Produces the parks_gdf with an added column of species counts for each park polygon. \n",
    "        \n",
    "    Examples\n",
    "    --------\n",
    "    TODO \n",
    "    \n",
    "    \"\"\"\n",
    "    parks = parks_gdf.copy()\n",
    "    \n",
    "    # apply clipping to each park and get species count per park \n",
    "    num_species = parks.geometry.apply(lambda park: len(gpd.clip(gdf=species_gdf, mask=park)))\n",
    "    \n",
    "    # add species count list to parks_gdf\n",
    "    parks['species_count'] = num_species\n",
    "    \n",
    "    return parks"
   ]
  },
  {
   "cell_type": "code",
   "execution_count": 181,
   "metadata": {},
   "outputs": [
    {
     "data": {
      "text/html": [
       "<div>\n",
       "<style scoped>\n",
       "    .dataframe tbody tr th:only-of-type {\n",
       "        vertical-align: middle;\n",
       "    }\n",
       "\n",
       "    .dataframe tbody tr th {\n",
       "        vertical-align: top;\n",
       "    }\n",
       "\n",
       "    .dataframe thead th {\n",
       "        text-align: right;\n",
       "    }\n",
       "</style>\n",
       "<table border=\"1\" class=\"dataframe\">\n",
       "  <thead>\n",
       "    <tr style=\"text-align: right;\">\n",
       "      <th></th>\n",
       "      <th>park_name</th>\n",
       "      <th>park_type</th>\n",
       "      <th>park_prima</th>\n",
       "      <th>latitude</th>\n",
       "      <th>longitude</th>\n",
       "      <th>geometry</th>\n",
       "      <th>species_count</th>\n",
       "    </tr>\n",
       "  </thead>\n",
       "  <tbody>\n",
       "    <tr>\n",
       "      <th>150</th>\n",
       "      <td>Stanley Park</td>\n",
       "      <td>Local</td>\n",
       "      <td>Park</td>\n",
       "      <td>49.302136</td>\n",
       "      <td>-123.140049</td>\n",
       "      <td>POLYGON ((-123.13845 49.29360, -123.14156 49.2...</td>\n",
       "      <td>1422</td>\n",
       "    </tr>\n",
       "    <tr>\n",
       "      <th>225</th>\n",
       "      <td>Pacific Spirit Park</td>\n",
       "      <td>Regional</td>\n",
       "      <td>Park</td>\n",
       "      <td>49.251873</td>\n",
       "      <td>-123.195270</td>\n",
       "      <td>POLYGON ((-123.19604 49.25463, -123.19604 49.2...</td>\n",
       "      <td>9</td>\n",
       "    </tr>\n",
       "  </tbody>\n",
       "</table>\n",
       "</div>"
      ],
      "text/plain": [
       "               park_name park_type park_prima   latitude   longitude  \\\n",
       "150         Stanley Park     Local       Park  49.302136 -123.140049   \n",
       "225  Pacific Spirit Park  Regional       Park  49.251873 -123.195270   \n",
       "\n",
       "                                              geometry  species_count  \n",
       "150  POLYGON ((-123.13845 49.29360, -123.14156 49.2...           1422  \n",
       "225  POLYGON ((-123.19604 49.25463, -123.19604 49.2...              9  "
      ]
     },
     "execution_count": 181,
     "metadata": {},
     "output_type": "execute_result"
    }
   ],
   "source": [
    "add_species_counts(species_gdf=clipped_gbif, parks_gdf=truncated_parks)"
   ]
  },
  {
   "cell_type": "code",
   "execution_count": null,
   "metadata": {},
   "outputs": [],
   "source": []
  }
 ],
 "metadata": {
  "kernelspec": {
   "display_name": "Python 3",
   "language": "python",
   "name": "python3"
  },
  "language_info": {
   "codemirror_mode": {
    "name": "ipython",
    "version": 3
   },
   "file_extension": ".py",
   "mimetype": "text/x-python",
   "name": "python",
   "nbconvert_exporter": "python",
   "pygments_lexer": "ipython3",
   "version": "3.8.2"
  }
 },
 "nbformat": 4,
 "nbformat_minor": 4
}
