{
 "cells": [
  {
   "cell_type": "markdown",
   "metadata": {},
   "source": [
    "# Data Download \n",
    "The purpose of this notebook is to troubleshoot the downloading of GBIF and city parks datasets in a programmatic way. \n",
    "\n",
    "Accessing GBIF occurrence records for City of Vancouver, requires providing the city boundary limits. City boundary was obtained from the [Vancouver Open Data Portal](https://opendata.vancouver.ca/explore/dataset/city-boundary/export/?location=11,49.23374,-123.13477)"
   ]
  },
  {
   "cell_type": "markdown",
   "metadata": {},
   "source": [
    "# import libraries \n"
   ]
  },
  {
   "cell_type": "code",
   "execution_count": 82,
   "metadata": {},
   "outputs": [],
   "source": [
    "from pygbif import occurrences as occ\n",
    "import geopandas as gpd\n",
    "from shapely.geometry.multipolygon import MultiPolygon\n",
    "import shapely.geometry as geom\n",
    "import shapely.wkt\n",
    "import pandas as pd\n",
    "from zipfile import ZipFile"
   ]
  },
  {
   "cell_type": "markdown",
   "metadata": {},
   "source": [
    "# load the city boundary "
   ]
  },
  {
   "cell_type": "code",
   "execution_count": 38,
   "metadata": {},
   "outputs": [],
   "source": [
    "url = 'https://opendata.vancouver.ca/explore/dataset/facet-grid-boundaries/download/?format=shp&timezone=America/Los_Angeles&lang=en'\n",
    "city_boundary = gpd.read_file(url)"
   ]
  },
  {
   "cell_type": "code",
   "execution_count": 39,
   "metadata": {},
   "outputs": [
    {
     "data": {
      "text/html": [
       "<div>\n",
       "<style scoped>\n",
       "    .dataframe tbody tr th:only-of-type {\n",
       "        vertical-align: middle;\n",
       "    }\n",
       "\n",
       "    .dataframe tbody tr th {\n",
       "        vertical-align: top;\n",
       "    }\n",
       "\n",
       "    .dataframe thead th {\n",
       "        text-align: right;\n",
       "    }\n",
       "</style>\n",
       "<table border=\"1\" class=\"dataframe\">\n",
       "  <thead>\n",
       "    <tr style=\"text-align: right;\">\n",
       "      <th></th>\n",
       "      <th>facet_text</th>\n",
       "      <th>geometry</th>\n",
       "    </tr>\n",
       "  </thead>\n",
       "  <tbody>\n",
       "    <tr>\n",
       "      <th>0</th>\n",
       "      <td>X04</td>\n",
       "      <td>POLYGON ((-123.01232 49.30354, -123.01232 49.2...</td>\n",
       "    </tr>\n",
       "    <tr>\n",
       "      <th>1</th>\n",
       "      <td>X05</td>\n",
       "      <td>POLYGON ((-123.01232 49.29905, -123.01232 49.2...</td>\n",
       "    </tr>\n",
       "    <tr>\n",
       "      <th>2</th>\n",
       "      <td>X07</td>\n",
       "      <td>POLYGON ((-123.02332 49.29005, -123.01232 49.2...</td>\n",
       "    </tr>\n",
       "    <tr>\n",
       "      <th>3</th>\n",
       "      <td>W15</td>\n",
       "      <td>POLYGON ((-123.02331 49.25407, -123.02330 49.2...</td>\n",
       "    </tr>\n",
       "    <tr>\n",
       "      <th>4</th>\n",
       "      <td>X18</td>\n",
       "      <td>POLYGON ((-123.01231 49.24058, -123.01231 49.2...</td>\n",
       "    </tr>\n",
       "  </tbody>\n",
       "</table>\n",
       "</div>"
      ],
      "text/plain": [
       "  facet_text                                           geometry\n",
       "0        X04  POLYGON ((-123.01232 49.30354, -123.01232 49.2...\n",
       "1        X05  POLYGON ((-123.01232 49.29905, -123.01232 49.2...\n",
       "2        X07  POLYGON ((-123.02332 49.29005, -123.01232 49.2...\n",
       "3        W15  POLYGON ((-123.02331 49.25407, -123.02330 49.2...\n",
       "4        X18  POLYGON ((-123.01231 49.24058, -123.01231 49.2..."
      ]
     },
     "execution_count": 39,
     "metadata": {},
     "output_type": "execute_result"
    }
   ],
   "source": [
    "city_boundary.head()"
   ]
  },
  {
   "cell_type": "code",
   "execution_count": 71,
   "metadata": {},
   "outputs": [],
   "source": [
    "poly_wkt = [str(poly_str) for poly_str in city_boundary.geometry]\n",
    "poly_list = [shapely.wkt.loads(poly) for poly in poly_wkt]\n",
    "geometry = str(MultiPolygon(poly_list))"
   ]
  },
  {
   "cell_type": "markdown",
   "metadata": {},
   "source": [
    "# download GBIF data "
   ]
  },
  {
   "cell_type": "code",
   "execution_count": 11,
   "metadata": {},
   "outputs": [],
   "source": [
    "GBIF_USER = 'aromatic_toast'\n",
    "GBIF_PWD = 'EspressoMach2029'\n",
    "GBIF_EMAIL = 'lesley.miller@alumni.ubc.ca'"
   ]
  },
  {
   "cell_type": "code",
   "execution_count": 72,
   "metadata": {},
   "outputs": [
    {
     "ename": "Exception",
     "evalue": "error: Instantiation of [simple type, class org.gbif.api.model.occurrence.predicate.EqualsPredicate] value failed: <value> may not be empty (through reference chain: org.gbif.api.model.occurrence.predicate.EqualsPredicate[\"value\"]), with error status code 400check your number of active downloads.",
     "output_type": "error",
     "traceback": [
      "\u001b[0;31m---------------------------------------------------------------------------\u001b[0m",
      "\u001b[0;31mException\u001b[0m                                 Traceback (most recent call last)",
      "\u001b[0;32m<ipython-input-72-531c76db5ad6>\u001b[0m in \u001b[0;36m<module>\u001b[0;34m\u001b[0m\n\u001b[0;32m----> 1\u001b[0;31m occ.download(['geometry =  geometry',\n\u001b[0m\u001b[1;32m      2\u001b[0m              \u001b[0;34m'hasCoordinate = True'\u001b[0m\u001b[0;34m,\u001b[0m\u001b[0;34m\u001b[0m\u001b[0;34m\u001b[0m\u001b[0m\n\u001b[1;32m      3\u001b[0m              \u001b[0;34m'year = 2019'\u001b[0m\u001b[0;34m,\u001b[0m\u001b[0;34m\u001b[0m\u001b[0;34m\u001b[0m\u001b[0m\n\u001b[1;32m      4\u001b[0m              \u001b[0;34m'user = GBIF_USER'\u001b[0m\u001b[0;34m,\u001b[0m\u001b[0;34m\u001b[0m\u001b[0;34m\u001b[0m\u001b[0m\n\u001b[1;32m      5\u001b[0m              \u001b[0;34m'pwd = GBIF_PWD'\u001b[0m\u001b[0;34m,\u001b[0m\u001b[0;34m\u001b[0m\u001b[0;34m\u001b[0m\u001b[0m\n",
      "\u001b[0;32m~/.pyenv/versions/3.8.2/envs/van_park_biodiv/lib/python3.8/site-packages/pygbif/occurrences/download.py\u001b[0m in \u001b[0;36mdownload\u001b[0;34m(queries, user, pwd, email, pred_type)\u001b[0m\n\u001b[1;32m    140\u001b[0m                           predicate['type'])\n\u001b[1;32m    141\u001b[0m \u001b[0;34m\u001b[0m\u001b[0m\n\u001b[0;32m--> 142\u001b[0;31m     \u001b[0mout\u001b[0m \u001b[0;34m=\u001b[0m \u001b[0mreq\u001b[0m\u001b[0;34m.\u001b[0m\u001b[0mpost_download\u001b[0m\u001b[0;34m(\u001b[0m\u001b[0muser\u001b[0m\u001b[0;34m,\u001b[0m \u001b[0mpwd\u001b[0m\u001b[0;34m)\u001b[0m\u001b[0;34m\u001b[0m\u001b[0;34m\u001b[0m\u001b[0m\n\u001b[0m\u001b[1;32m    143\u001b[0m     \u001b[0;32mreturn\u001b[0m \u001b[0mout\u001b[0m\u001b[0;34m,\u001b[0m \u001b[0mreq\u001b[0m\u001b[0;34m.\u001b[0m\u001b[0mpayload\u001b[0m\u001b[0;34m\u001b[0m\u001b[0;34m\u001b[0m\u001b[0m\n\u001b[1;32m    144\u001b[0m \u001b[0;34m\u001b[0m\u001b[0m\n",
      "\u001b[0;32m~/.pyenv/versions/3.8.2/envs/van_park_biodiv/lib/python3.8/site-packages/pygbif/occurrences/download.py\u001b[0m in \u001b[0;36mpost_download\u001b[0;34m(self, user, pwd)\u001b[0m\n\u001b[1;32m    292\u001b[0m                           headers=self.header)\n\u001b[1;32m    293\u001b[0m         \u001b[0;32mif\u001b[0m \u001b[0mr\u001b[0m\u001b[0;34m.\u001b[0m\u001b[0mstatus_code\u001b[0m \u001b[0;34m>\u001b[0m \u001b[0;36m203\u001b[0m\u001b[0;34m:\u001b[0m\u001b[0;34m\u001b[0m\u001b[0;34m\u001b[0m\u001b[0m\n\u001b[0;32m--> 294\u001b[0;31m             raise Exception('error: ' + r.text +\n\u001b[0m\u001b[1;32m    295\u001b[0m                             \u001b[0;34m', with error status code '\u001b[0m \u001b[0;34m+\u001b[0m\u001b[0;34m\u001b[0m\u001b[0;34m\u001b[0m\u001b[0m\n\u001b[1;32m    296\u001b[0m                             \u001b[0mstr\u001b[0m\u001b[0;34m(\u001b[0m\u001b[0mr\u001b[0m\u001b[0;34m.\u001b[0m\u001b[0mstatus_code\u001b[0m\u001b[0;34m)\u001b[0m \u001b[0;34m+\u001b[0m\u001b[0;34m\u001b[0m\u001b[0;34m\u001b[0m\u001b[0m\n",
      "\u001b[0;31mException\u001b[0m: error: Instantiation of [simple type, class org.gbif.api.model.occurrence.predicate.EqualsPredicate] value failed: <value> may not be empty (through reference chain: org.gbif.api.model.occurrence.predicate.EqualsPredicate[\"value\"]), with error status code 400check your number of active downloads."
     ]
    }
   ],
   "source": [
    "occ.download(['geometry =  geometry',\n",
    "             'hasCoordinate = True',\n",
    "             'year = 2019',\n",
    "             'user = GBIF_USER', \n",
    "             'pwd = GBIF_PWD', \n",
    "             'email = GBIF_EMAIL'])"
   ]
  },
  {
   "cell_type": "code",
   "execution_count": 73,
   "metadata": {},
   "outputs": [
    {
     "data": {
      "text/plain": [
       "{'meta': {'offset': 0, 'limit': 20, 'endofrecords': True, 'count': 1},\n",
       " 'results': [{'key': '0019909-190415153152247',\n",
       "   'doi': '10.15468/dl.txhrd1',\n",
       "   'license': 'http://creativecommons.org/licenses/by-nc/4.0/legalcode',\n",
       "   'request': {'predicate': {'type': 'and',\n",
       "     'predicates': [{'type': 'equals', 'key': 'COUNTRY', 'value': 'CA'},\n",
       "      {'type': 'and',\n",
       "       'predicates': [{'type': 'greaterThanOrEquals',\n",
       "         'key': 'YEAR',\n",
       "         'value': '2009'},\n",
       "        {'type': 'lessThanOrEquals', 'key': 'YEAR', 'value': '2019'}]},\n",
       "      {'type': 'or',\n",
       "       'predicates': [{'type': 'within',\n",
       "         'geometry': 'POLYGON((-180 -90,180 -90,180 90,-180 90,-180 -90))'},\n",
       "        {'type': 'within',\n",
       "         'geometry': 'POLYGON((-123.39727 49.02333,-122.53448 49.02333,-122.53448 49.4198,-123.39727 49.4198,-123.39727 49.02333))'}]},\n",
       "      {'type': 'equals',\n",
       "       'key': 'DATASET_KEY',\n",
       "       'value': '50c9509d-22c7-4a22-a47d-8c48425ef4a7'},\n",
       "      {'type': 'equals', 'key': 'HAS_COORDINATE', 'value': 'true'},\n",
       "      {'type': 'equals', 'key': 'HAS_GEOSPATIAL_ISSUE', 'value': 'false'}]},\n",
       "    'creator': 'aromatic_toast',\n",
       "    'notificationAddresses': ['lesley.miller@alumni.ubc.ca'],\n",
       "    'sendNotification': True,\n",
       "    'format': 'SIMPLE_CSV'},\n",
       "   'created': '2019-05-28T21:17:15.100+0000',\n",
       "   'modified': '2019-05-28T21:21:29.317+0000',\n",
       "   'eraseAfter': '2019-11-28T21:17:15.023+0000',\n",
       "   'status': 'SUCCEEDED',\n",
       "   'downloadLink': 'http://api.gbif.org/v1/occurrence/download/request/0019909-190415153152247.zip',\n",
       "   'size': 56878354,\n",
       "   'totalRecords': 553689,\n",
       "   'numberDatasets': 1}]}"
      ]
     },
     "execution_count": 73,
     "metadata": {},
     "output_type": "execute_result"
    }
   ],
   "source": [
    "occ.download_list(user = GBIF_USER, pwd = GBIF_PWD)"
   ]
  },
  {
   "cell_type": "code",
   "execution_count": 75,
   "metadata": {},
   "outputs": [
    {
     "name": "stdout",
     "output_type": "stream",
     "text": [
      "Download file size: 56878354 bytes\n",
      "On disk at /Users/lesley/data_science_portfolio/vancouver_park_biodiversity/data//0019909-190415153152247.zip\n"
     ]
    },
    {
     "data": {
      "text/plain": [
       "{'path': '/Users/lesley/data_science_portfolio/vancouver_park_biodiversity/data//0019909-190415153152247.zip',\n",
       " 'size': 56878354,\n",
       " 'key': '0019909-190415153152247'}"
      ]
     },
     "execution_count": 75,
     "metadata": {},
     "output_type": "execute_result"
    }
   ],
   "source": [
    "occ.download_get(key = '0019909-190415153152247', \n",
    "                 path = '/Users/lesley/data_science_portfolio/vancouver_park_biodiversity/data/')"
   ]
  },
  {
   "cell_type": "code",
   "execution_count": 81,
   "metadata": {},
   "outputs": [],
   "source": [
    "# extract the data \n",
    "zip = ZipFile('/Users/lesley/data_science_portfolio/vancouver_park_biodiversity/data/0019909-190415153152247.zip')\n",
    "zip.extractall(path='data/')"
   ]
  },
  {
   "cell_type": "markdown",
   "metadata": {},
   "source": [
    "# load in city parks data"
   ]
  },
  {
   "cell_type": "code",
   "execution_count": null,
   "metadata": {},
   "outputs": [],
   "source": []
  }
 ],
 "metadata": {
  "kernelspec": {
   "display_name": "Python 3",
   "language": "python",
   "name": "python3"
  },
  "language_info": {
   "codemirror_mode": {
    "name": "ipython",
    "version": 3
   },
   "file_extension": ".py",
   "mimetype": "text/x-python",
   "name": "python",
   "nbconvert_exporter": "python",
   "pygments_lexer": "ipython3",
   "version": "3.8.2"
  }
 },
 "nbformat": 4,
 "nbformat_minor": 4
}
