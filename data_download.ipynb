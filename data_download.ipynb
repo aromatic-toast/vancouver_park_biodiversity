{
 "cells": [
  {
   "cell_type": "markdown",
   "metadata": {},
   "source": [
    "# Data Download \n",
    "The purpose of this notebook is to troubleshoot the downloading of GBIF and city parks datasets in a programmatic way. \n",
    "\n",
    "Accessing GBIF occurrence records for City of Vancouver, requires providing the regional boundary limits. A facet grid boundary was obtained from the [Vancouver Open Data Portal](https://opendata.vancouver.ca/explore/dataset/facet-grid-boundaries/information/?location=11,49.24271,-123.16189) includes the city of Vancouver as well as UBC and the Endownment Lands which is techinically outside the jurisdiction of City of Vancouver. \n",
    "\n",
    "An attempt was made to download GBIF data using the python wrapper for the GBIF API; the city grid boundary was supposed to be used to obtain GBIF data only within that boundary. However, the data request ended up querying data from all across Canada for the past 11 years. Once the GBIF data was downloaded it was then clipped to the city boundary. \n",
    "\n",
    "The parks dataset was obtained through the [BC Open Data Catalogue](https://catalogue.data.gov.bc.ca/dataset/local-and-regional-greenspaces) and included regional and city parks for the entire province of British Columbia. This dataset was chosen instead of the city parks dataset offered through City of Vancouver Open Data so that regional parks like `Pacific Spirit Park` could be included in the analysis. The BC parks dataset was then filtered to include only parks contained within the municipality of Vancouver. "
   ]
  },
  {
   "cell_type": "markdown",
   "metadata": {},
   "source": [
    "# import libraries \n"
   ]
  },
  {
   "cell_type": "code",
   "execution_count": 16,
   "metadata": {},
   "outputs": [],
   "source": [
    "from pygbif import occurrences as occ\n",
    "import geopandas as gpd\n",
    "from shapely.geometry.multipolygon import MultiPolygon\n",
    "import shapely.geometry as geom\n",
    "import shapely.wkt\n",
    "import pandas as pd\n",
    "from zipfile import ZipFile\n",
    "from keplergl import KeplerGl"
   ]
  },
  {
   "cell_type": "markdown",
   "metadata": {},
   "source": [
    "# load the city boundary "
   ]
  },
  {
   "cell_type": "code",
   "execution_count": 17,
   "metadata": {},
   "outputs": [],
   "source": [
    "url = 'https://opendata.vancouver.ca/explore/dataset/facet-grid-boundaries/download/?format=shp&timezone=America/Los_Angeles&lang=en'\n",
    "city_boundary = gpd.read_file(url)"
   ]
  },
  {
   "cell_type": "code",
   "execution_count": 18,
   "metadata": {},
   "outputs": [
    {
     "data": {
      "text/html": [
       "<div>\n",
       "<style scoped>\n",
       "    .dataframe tbody tr th:only-of-type {\n",
       "        vertical-align: middle;\n",
       "    }\n",
       "\n",
       "    .dataframe tbody tr th {\n",
       "        vertical-align: top;\n",
       "    }\n",
       "\n",
       "    .dataframe thead th {\n",
       "        text-align: right;\n",
       "    }\n",
       "</style>\n",
       "<table border=\"1\" class=\"dataframe\">\n",
       "  <thead>\n",
       "    <tr style=\"text-align: right;\">\n",
       "      <th></th>\n",
       "      <th>facet_text</th>\n",
       "      <th>geometry</th>\n",
       "    </tr>\n",
       "  </thead>\n",
       "  <tbody>\n",
       "    <tr>\n",
       "      <th>0</th>\n",
       "      <td>X04</td>\n",
       "      <td>POLYGON ((-123.01232 49.30354, -123.01232 49.2...</td>\n",
       "    </tr>\n",
       "    <tr>\n",
       "      <th>1</th>\n",
       "      <td>X05</td>\n",
       "      <td>POLYGON ((-123.01232 49.29905, -123.01232 49.2...</td>\n",
       "    </tr>\n",
       "    <tr>\n",
       "      <th>2</th>\n",
       "      <td>X07</td>\n",
       "      <td>POLYGON ((-123.02332 49.29005, -123.01232 49.2...</td>\n",
       "    </tr>\n",
       "    <tr>\n",
       "      <th>3</th>\n",
       "      <td>W15</td>\n",
       "      <td>POLYGON ((-123.02331 49.25407, -123.02330 49.2...</td>\n",
       "    </tr>\n",
       "    <tr>\n",
       "      <th>4</th>\n",
       "      <td>X18</td>\n",
       "      <td>POLYGON ((-123.01231 49.24058, -123.01231 49.2...</td>\n",
       "    </tr>\n",
       "  </tbody>\n",
       "</table>\n",
       "</div>"
      ],
      "text/plain": [
       "  facet_text                                           geometry\n",
       "0        X04  POLYGON ((-123.01232 49.30354, -123.01232 49.2...\n",
       "1        X05  POLYGON ((-123.01232 49.29905, -123.01232 49.2...\n",
       "2        X07  POLYGON ((-123.02332 49.29005, -123.01232 49.2...\n",
       "3        W15  POLYGON ((-123.02331 49.25407, -123.02330 49.2...\n",
       "4        X18  POLYGON ((-123.01231 49.24058, -123.01231 49.2..."
      ]
     },
     "execution_count": 18,
     "metadata": {},
     "output_type": "execute_result"
    }
   ],
   "source": [
    "city_boundary.head()"
   ]
  },
  {
   "cell_type": "code",
   "execution_count": 25,
   "metadata": {},
   "outputs": [],
   "source": [
    "poly_wkt = [str(poly_str) for poly_str in city_boundary.geometry]\n",
    "poly_list = [shapely.wkt.loads(poly) for poly in poly_wkt]\n",
    "city_boundary_multipolygon = MultiPolygon(poly_list)\n",
    "geometry = str(city_boundary_multipolygon)"
   ]
  },
  {
   "cell_type": "markdown",
   "metadata": {},
   "source": [
    "# download GBIF data "
   ]
  },
  {
   "cell_type": "code",
   "execution_count": 72,
   "metadata": {},
   "outputs": [
    {
     "ename": "Exception",
     "evalue": "error: Instantiation of [simple type, class org.gbif.api.model.occurrence.predicate.EqualsPredicate] value failed: <value> may not be empty (through reference chain: org.gbif.api.model.occurrence.predicate.EqualsPredicate[\"value\"]), with error status code 400check your number of active downloads.",
     "output_type": "error",
     "traceback": [
      "\u001b[0;31m---------------------------------------------------------------------------\u001b[0m",
      "\u001b[0;31mException\u001b[0m                                 Traceback (most recent call last)",
      "\u001b[0;32m<ipython-input-72-531c76db5ad6>\u001b[0m in \u001b[0;36m<module>\u001b[0;34m\u001b[0m\n\u001b[0;32m----> 1\u001b[0;31m occ.download(['geometry =  geometry',\n\u001b[0m\u001b[1;32m      2\u001b[0m              \u001b[0;34m'hasCoordinate = True'\u001b[0m\u001b[0;34m,\u001b[0m\u001b[0;34m\u001b[0m\u001b[0;34m\u001b[0m\u001b[0m\n\u001b[1;32m      3\u001b[0m              \u001b[0;34m'year = 2019'\u001b[0m\u001b[0;34m,\u001b[0m\u001b[0;34m\u001b[0m\u001b[0;34m\u001b[0m\u001b[0m\n\u001b[1;32m      4\u001b[0m              \u001b[0;34m'user = GBIF_USER'\u001b[0m\u001b[0;34m,\u001b[0m\u001b[0;34m\u001b[0m\u001b[0;34m\u001b[0m\u001b[0m\n\u001b[1;32m      5\u001b[0m              \u001b[0;34m'pwd = GBIF_PWD'\u001b[0m\u001b[0;34m,\u001b[0m\u001b[0;34m\u001b[0m\u001b[0;34m\u001b[0m\u001b[0m\n",
      "\u001b[0;32m~/.pyenv/versions/3.8.2/envs/van_park_biodiv/lib/python3.8/site-packages/pygbif/occurrences/download.py\u001b[0m in \u001b[0;36mdownload\u001b[0;34m(queries, user, pwd, email, pred_type)\u001b[0m\n\u001b[1;32m    140\u001b[0m                           predicate['type'])\n\u001b[1;32m    141\u001b[0m \u001b[0;34m\u001b[0m\u001b[0m\n\u001b[0;32m--> 142\u001b[0;31m     \u001b[0mout\u001b[0m \u001b[0;34m=\u001b[0m \u001b[0mreq\u001b[0m\u001b[0;34m.\u001b[0m\u001b[0mpost_download\u001b[0m\u001b[0;34m(\u001b[0m\u001b[0muser\u001b[0m\u001b[0;34m,\u001b[0m \u001b[0mpwd\u001b[0m\u001b[0;34m)\u001b[0m\u001b[0;34m\u001b[0m\u001b[0;34m\u001b[0m\u001b[0m\n\u001b[0m\u001b[1;32m    143\u001b[0m     \u001b[0;32mreturn\u001b[0m \u001b[0mout\u001b[0m\u001b[0;34m,\u001b[0m \u001b[0mreq\u001b[0m\u001b[0;34m.\u001b[0m\u001b[0mpayload\u001b[0m\u001b[0;34m\u001b[0m\u001b[0;34m\u001b[0m\u001b[0m\n\u001b[1;32m    144\u001b[0m \u001b[0;34m\u001b[0m\u001b[0m\n",
      "\u001b[0;32m~/.pyenv/versions/3.8.2/envs/van_park_biodiv/lib/python3.8/site-packages/pygbif/occurrences/download.py\u001b[0m in \u001b[0;36mpost_download\u001b[0;34m(self, user, pwd)\u001b[0m\n\u001b[1;32m    292\u001b[0m                           headers=self.header)\n\u001b[1;32m    293\u001b[0m         \u001b[0;32mif\u001b[0m \u001b[0mr\u001b[0m\u001b[0;34m.\u001b[0m\u001b[0mstatus_code\u001b[0m \u001b[0;34m>\u001b[0m \u001b[0;36m203\u001b[0m\u001b[0;34m:\u001b[0m\u001b[0;34m\u001b[0m\u001b[0;34m\u001b[0m\u001b[0m\n\u001b[0;32m--> 294\u001b[0;31m             raise Exception('error: ' + r.text +\n\u001b[0m\u001b[1;32m    295\u001b[0m                             \u001b[0;34m', with error status code '\u001b[0m \u001b[0;34m+\u001b[0m\u001b[0;34m\u001b[0m\u001b[0;34m\u001b[0m\u001b[0m\n\u001b[1;32m    296\u001b[0m                             \u001b[0mstr\u001b[0m\u001b[0;34m(\u001b[0m\u001b[0mr\u001b[0m\u001b[0;34m.\u001b[0m\u001b[0mstatus_code\u001b[0m\u001b[0;34m)\u001b[0m \u001b[0;34m+\u001b[0m\u001b[0;34m\u001b[0m\u001b[0;34m\u001b[0m\u001b[0m\n",
      "\u001b[0;31mException\u001b[0m: error: Instantiation of [simple type, class org.gbif.api.model.occurrence.predicate.EqualsPredicate] value failed: <value> may not be empty (through reference chain: org.gbif.api.model.occurrence.predicate.EqualsPredicate[\"value\"]), with error status code 400check your number of active downloads."
     ]
    }
   ],
   "source": [
    "occ.download(['geometry =  geometry',\n",
    "             'hasCoordinate = True',\n",
    "             'year = 2019',\n",
    "             'user = GBIF_USER', \n",
    "             'pwd = GBIF_PWD', \n",
    "             'email = GBIF_EMAIL'])"
   ]
  },
  {
   "cell_type": "code",
   "execution_count": 73,
   "metadata": {},
   "outputs": [
    {
     "data": {
      "text/plain": [
       "{'meta': {'offset': 0, 'limit': 20, 'endofrecords': True, 'count': 1},\n",
       " 'results': [{'key': '0019909-190415153152247',\n",
       "   'doi': '10.15468/dl.txhrd1',\n",
       "   'license': 'http://creativecommons.org/licenses/by-nc/4.0/legalcode',\n",
       "   'request': {'predicate': {'type': 'and',\n",
       "     'predicates': [{'type': 'equals', 'key': 'COUNTRY', 'value': 'CA'},\n",
       "      {'type': 'and',\n",
       "       'predicates': [{'type': 'greaterThanOrEquals',\n",
       "         'key': 'YEAR',\n",
       "         'value': '2009'},\n",
       "        {'type': 'lessThanOrEquals', 'key': 'YEAR', 'value': '2019'}]},\n",
       "      {'type': 'or',\n",
       "       'predicates': [{'type': 'within',\n",
       "         'geometry': 'POLYGON((-180 -90,180 -90,180 90,-180 90,-180 -90))'},\n",
       "        {'type': 'within',\n",
       "         'geometry': 'POLYGON((-123.39727 49.02333,-122.53448 49.02333,-122.53448 49.4198,-123.39727 49.4198,-123.39727 49.02333))'}]},\n",
       "      {'type': 'equals',\n",
       "       'key': 'DATASET_KEY',\n",
       "       'value': '50c9509d-22c7-4a22-a47d-8c48425ef4a7'},\n",
       "      {'type': 'equals', 'key': 'HAS_COORDINATE', 'value': 'true'},\n",
       "      {'type': 'equals', 'key': 'HAS_GEOSPATIAL_ISSUE', 'value': 'false'}]},\n",
       "    'creator': 'aromatic_toast',\n",
       "    'notificationAddresses': ['lesley.miller@alumni.ubc.ca'],\n",
       "    'sendNotification': True,\n",
       "    'format': 'SIMPLE_CSV'},\n",
       "   'created': '2019-05-28T21:17:15.100+0000',\n",
       "   'modified': '2019-05-28T21:21:29.317+0000',\n",
       "   'eraseAfter': '2019-11-28T21:17:15.023+0000',\n",
       "   'status': 'SUCCEEDED',\n",
       "   'downloadLink': 'http://api.gbif.org/v1/occurrence/download/request/0019909-190415153152247.zip',\n",
       "   'size': 56878354,\n",
       "   'totalRecords': 553689,\n",
       "   'numberDatasets': 1}]}"
      ]
     },
     "execution_count": 73,
     "metadata": {},
     "output_type": "execute_result"
    }
   ],
   "source": [
    "occ.download_list(user = GBIF_USER, pwd = GBIF_PWD)"
   ]
  },
  {
   "cell_type": "code",
   "execution_count": 75,
   "metadata": {},
   "outputs": [
    {
     "name": "stdout",
     "output_type": "stream",
     "text": [
      "Download file size: 56878354 bytes\n",
      "On disk at /Users/lesley/data_science_portfolio/vancouver_park_biodiversity/data//0019909-190415153152247.zip\n"
     ]
    },
    {
     "data": {
      "text/plain": [
       "{'path': '/Users/lesley/data_science_portfolio/vancouver_park_biodiversity/data//0019909-190415153152247.zip',\n",
       " 'size': 56878354,\n",
       " 'key': '0019909-190415153152247'}"
      ]
     },
     "execution_count": 75,
     "metadata": {},
     "output_type": "execute_result"
    }
   ],
   "source": [
    "occ.download_get(key = '0019909-190415153152247', \n",
    "                 path = '/Users/lesley/data_science_portfolio/vancouver_park_biodiversity/data/')"
   ]
  },
  {
   "cell_type": "code",
   "execution_count": 81,
   "metadata": {},
   "outputs": [],
   "source": [
    "# extract the data \n",
    "zip = ZipFile('/Users/lesley/data_science_portfolio/vancouver_park_biodiversity/data/0019909-190415153152247.zip')\n",
    "zip.extractall(path='data/')"
   ]
  },
  {
   "cell_type": "markdown",
   "metadata": {},
   "source": [
    "# load in city parks data"
   ]
  },
  {
   "cell_type": "code",
   "execution_count": 12,
   "metadata": {},
   "outputs": [],
   "source": [
    "# extract the data \n",
    "zip = ZipFile('/Users/lesley/data_science_portfolio/vancouver_park_biodiversity/data/local_and_regional_greenspaces.zip')\n",
    "zip.extractall(path='data/')"
   ]
  },
  {
   "cell_type": "code",
   "execution_count": 13,
   "metadata": {},
   "outputs": [],
   "source": [
    "# load the data \n",
    "parks = gpd.read_file('data/GBA_LOCAL_REG_GREENSPACES_SP.geojson')"
   ]
  },
  {
   "cell_type": "code",
   "execution_count": 30,
   "metadata": {},
   "outputs": [
    {
     "data": {
      "text/html": [
       "<div>\n",
       "<style scoped>\n",
       "    .dataframe tbody tr th:only-of-type {\n",
       "        vertical-align: middle;\n",
       "    }\n",
       "\n",
       "    .dataframe tbody tr th {\n",
       "        vertical-align: top;\n",
       "    }\n",
       "\n",
       "    .dataframe thead th {\n",
       "        text-align: right;\n",
       "    }\n",
       "</style>\n",
       "<table border=\"1\" class=\"dataframe\">\n",
       "  <thead>\n",
       "    <tr style=\"text-align: right;\">\n",
       "      <th></th>\n",
       "      <th>LOCAL_REG_GREENSPACE_ID</th>\n",
       "      <th>PARK_NAME</th>\n",
       "      <th>PARK_TYPE</th>\n",
       "      <th>PARK_PRIMARY_USE</th>\n",
       "      <th>REGIONAL_DISTRICT</th>\n",
       "      <th>MUNICIPALITY</th>\n",
       "      <th>CIVIC_NUMBER</th>\n",
       "      <th>CIVIC_NUMBER_SUFFIX</th>\n",
       "      <th>STREET_NAME</th>\n",
       "      <th>LATITUDE</th>\n",
       "      <th>...</th>\n",
       "      <th>WEBSITE_URL</th>\n",
       "      <th>LICENCE_COMMENTS</th>\n",
       "      <th>FEATURE_AREA_SQM</th>\n",
       "      <th>FEATURE_LENGTH_M</th>\n",
       "      <th>OBJECTID</th>\n",
       "      <th>SE_ANNO_CAD_DATA</th>\n",
       "      <th>SHAPE.AREA</th>\n",
       "      <th>SHAPE.LEN</th>\n",
       "      <th>fme_feature_type</th>\n",
       "      <th>geometry</th>\n",
       "    </tr>\n",
       "  </thead>\n",
       "  <tbody>\n",
       "    <tr>\n",
       "      <th>0</th>\n",
       "      <td>17</td>\n",
       "      <td>55D - Greenbelt</td>\n",
       "      <td>Local</td>\n",
       "      <td>Green Space</td>\n",
       "      <td>Metro Vancouver</td>\n",
       "      <td>Surrey</td>\n",
       "      <td>16152.0</td>\n",
       "      <td>None</td>\n",
       "      <td>76A Ave</td>\n",
       "      <td>49.141291</td>\n",
       "      <td>...</td>\n",
       "      <td>http://www.surrey.ca/culture-recreation/2015.aspx</td>\n",
       "      <td>Contains information licensed under the Open G...</td>\n",
       "      <td>1935.4529</td>\n",
       "      <td>198.8813</td>\n",
       "      <td>1558482</td>\n",
       "      <td>None</td>\n",
       "      <td>0</td>\n",
       "      <td>0</td>\n",
       "      <td>WHSE_BASEMAPPING.GBA_LOCAL_REG_GREENSPACES_SP</td>\n",
       "      <td>POLYGON ((-122.77514 49.14156, -122.77504 49.1...</td>\n",
       "    </tr>\n",
       "    <tr>\n",
       "      <th>1</th>\n",
       "      <td>18</td>\n",
       "      <td>55E - Greenbelt</td>\n",
       "      <td>Local</td>\n",
       "      <td>Green Space</td>\n",
       "      <td>Metro Vancouver</td>\n",
       "      <td>Surrey</td>\n",
       "      <td>16322.0</td>\n",
       "      <td>None</td>\n",
       "      <td>77 Ave</td>\n",
       "      <td>49.141708</td>\n",
       "      <td>...</td>\n",
       "      <td>http://www.surrey.ca/culture-recreation/2015.aspx</td>\n",
       "      <td>Contains information licensed under the Open G...</td>\n",
       "      <td>32681.9914</td>\n",
       "      <td>1081.1908</td>\n",
       "      <td>1558483</td>\n",
       "      <td>None</td>\n",
       "      <td>0</td>\n",
       "      <td>0</td>\n",
       "      <td>WHSE_BASEMAPPING.GBA_LOCAL_REG_GREENSPACES_SP</td>\n",
       "      <td>POLYGON ((-122.76772 49.14230, -122.76780 49.1...</td>\n",
       "    </tr>\n",
       "    <tr>\n",
       "      <th>2</th>\n",
       "      <td>19</td>\n",
       "      <td>55F - Greenbelt</td>\n",
       "      <td>Local</td>\n",
       "      <td>Green Space</td>\n",
       "      <td>Metro Vancouver</td>\n",
       "      <td>Surrey</td>\n",
       "      <td>7634.0</td>\n",
       "      <td>None</td>\n",
       "      <td>164 St</td>\n",
       "      <td>49.141307</td>\n",
       "      <td>...</td>\n",
       "      <td>http://www.surrey.ca/culture-recreation/2015.aspx</td>\n",
       "      <td>Contains information licensed under the Open G...</td>\n",
       "      <td>41307.6204</td>\n",
       "      <td>1215.1427</td>\n",
       "      <td>1558484</td>\n",
       "      <td>None</td>\n",
       "      <td>0</td>\n",
       "      <td>0</td>\n",
       "      <td>WHSE_BASEMAPPING.GBA_LOCAL_REG_GREENSPACES_SP</td>\n",
       "      <td>POLYGON ((-122.76391 49.14150, -122.76434 49.1...</td>\n",
       "    </tr>\n",
       "  </tbody>\n",
       "</table>\n",
       "<p>3 rows × 22 columns</p>\n",
       "</div>"
      ],
      "text/plain": [
       "   LOCAL_REG_GREENSPACE_ID        PARK_NAME PARK_TYPE PARK_PRIMARY_USE  \\\n",
       "0                       17  55D - Greenbelt     Local      Green Space   \n",
       "1                       18  55E - Greenbelt     Local      Green Space   \n",
       "2                       19  55F - Greenbelt     Local      Green Space   \n",
       "\n",
       "  REGIONAL_DISTRICT MUNICIPALITY  CIVIC_NUMBER CIVIC_NUMBER_SUFFIX  \\\n",
       "0   Metro Vancouver       Surrey       16152.0                None   \n",
       "1   Metro Vancouver       Surrey       16322.0                None   \n",
       "2   Metro Vancouver       Surrey        7634.0                None   \n",
       "\n",
       "  STREET_NAME   LATITUDE  ...  \\\n",
       "0     76A Ave  49.141291  ...   \n",
       "1      77 Ave  49.141708  ...   \n",
       "2      164 St  49.141307  ...   \n",
       "\n",
       "                                         WEBSITE_URL  \\\n",
       "0  http://www.surrey.ca/culture-recreation/2015.aspx   \n",
       "1  http://www.surrey.ca/culture-recreation/2015.aspx   \n",
       "2  http://www.surrey.ca/culture-recreation/2015.aspx   \n",
       "\n",
       "                                    LICENCE_COMMENTS FEATURE_AREA_SQM  \\\n",
       "0  Contains information licensed under the Open G...        1935.4529   \n",
       "1  Contains information licensed under the Open G...       32681.9914   \n",
       "2  Contains information licensed under the Open G...       41307.6204   \n",
       "\n",
       "  FEATURE_LENGTH_M  OBJECTID  SE_ANNO_CAD_DATA  SHAPE.AREA SHAPE.LEN  \\\n",
       "0         198.8813   1558482              None           0         0   \n",
       "1        1081.1908   1558483              None           0         0   \n",
       "2        1215.1427   1558484              None           0         0   \n",
       "\n",
       "                                fme_feature_type  \\\n",
       "0  WHSE_BASEMAPPING.GBA_LOCAL_REG_GREENSPACES_SP   \n",
       "1  WHSE_BASEMAPPING.GBA_LOCAL_REG_GREENSPACES_SP   \n",
       "2  WHSE_BASEMAPPING.GBA_LOCAL_REG_GREENSPACES_SP   \n",
       "\n",
       "                                            geometry  \n",
       "0  POLYGON ((-122.77514 49.14156, -122.77504 49.1...  \n",
       "1  POLYGON ((-122.76772 49.14230, -122.76780 49.1...  \n",
       "2  POLYGON ((-122.76391 49.14150, -122.76434 49.1...  \n",
       "\n",
       "[3 rows x 22 columns]"
      ]
     },
     "execution_count": 30,
     "metadata": {},
     "output_type": "execute_result"
    }
   ],
   "source": [
    "parks.head(3)"
   ]
  },
  {
   "cell_type": "code",
   "execution_count": 46,
   "metadata": {},
   "outputs": [],
   "source": [
    "# filter parks data to the municipality of Vancouver\n",
    "vancouver_parks = parks.query('MUNICIPALITY == \"Vancouver\"')"
   ]
  },
  {
   "cell_type": "code",
   "execution_count": 48,
   "metadata": {},
   "outputs": [],
   "source": [
    "# save the vancouver parks as new shp file \n",
    "vancouver_parks.to_file('data/vancouver_parks.shp')"
   ]
  },
  {
   "cell_type": "code",
   "execution_count": null,
   "metadata": {},
   "outputs": [],
   "source": []
  }
 ],
 "metadata": {
  "kernelspec": {
   "display_name": "Python 3",
   "language": "python",
   "name": "python3"
  },
  "language_info": {
   "codemirror_mode": {
    "name": "ipython",
    "version": 3
   },
   "file_extension": ".py",
   "mimetype": "text/x-python",
   "name": "python",
   "nbconvert_exporter": "python",
   "pygments_lexer": "ipython3",
   "version": "3.8.2"
  }
 },
 "nbformat": 4,
 "nbformat_minor": 4
}
